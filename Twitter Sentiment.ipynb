{
 "cells": [
  {
   "cell_type": "markdown",
   "metadata": {},
   "source": [
    "# Problem Statement:\n",
    "\n",
    "You want to collect text data using Twitter API.\n",
    "\n",
    "https://developer.twitter.com/en\n",
    "\n",
    "# AIML Batch2:\n",
    "\n",
    "__Consumer API keys__\n",
    "\n",
    "__API key:__\n",
    "\n",
    "nucwiQk9GtsJfWFSGQjXFicnq\n",
    "\n",
    "__API secret key:__\n",
    "\n",
    "psbIvsTINgr6eEu89jMe2FwsOM28Cs3KaVLWUfBjADkAfFfhZV\n",
    "\n",
    "__Access token:__\n",
    "\n",
    "296102538-4rqAPJBZSl2dQW2Wd1qvciWfkNKFpv9GZ3IBp5t7\n",
    "\n",
    "__Access token secret:__\n",
    "\n",
    "FoCmyrWsWVeyxjksdRwqujVyzQGT9tZVjRGqJoav021MU\n",
    "\n",
    "https://anaconda.org/conda-forge/tweepy\n",
    "\n",
    "https://anaconda.org/anaconda/openpyxl"
   ]
  },
  {
   "cell_type": "code",
   "execution_count": 1,
   "metadata": {},
   "outputs": [],
   "source": [
    "import numpy as np\n",
    "import pandas as pd\n",
    "import warnings\n",
    "warnings.filterwarnings('ignore')\n",
    "import json"
   ]
  },
  {
   "cell_type": "code",
   "execution_count": 2,
   "metadata": {},
   "outputs": [],
   "source": [
    "import tweepy\n",
    "import openpyxl\n",
    "from tweepy import OAuthHandler"
   ]
  },
  {
   "cell_type": "code",
   "execution_count": 3,
   "metadata": {},
   "outputs": [],
   "source": [
    "# credentials\n",
    "\n",
    "consumer_key = \"nucwiQk9GtsJfWFSGQjXFicnq\"\n",
    "consumer_secret = \"psbIvsTINgr6eEu89jMe2FwsOM28Cs3KaVLWUfBjADkAfFfhZV\"\n",
    "access_token = \"296102538-4rqAPJBZSl2dQW2Wd1qvciWfkNKFpv9GZ3IBp5t7\"\n",
    "access_token_secret = \"FoCmyrWsWVeyxjksdRwqujVyzQGT9tZVjRGqJoav021MU\""
   ]
  },
  {
   "cell_type": "code",
   "execution_count": 4,
   "metadata": {},
   "outputs": [],
   "source": [
    "# call API\n",
    "auth = tweepy.OAuthHandler(consumer_key, consumer_secret)\n",
    "auth.set_access_token(access_token, access_token_secret)\n",
    "api = tweepy.API(auth)"
   ]
  },
  {
   "cell_type": "code",
   "execution_count": 5,
   "metadata": {},
   "outputs": [
    {
     "name": "stdout",
     "output_type": "stream",
     "text": [
      "Status(_api=<tweepy.api.API object at 0x0000022C324EECA0>, _json={'created_at': 'Mon Jan 25 12:14:04 +0000 2021', 'id': 1353677513797611520, 'id_str': '1353677513797611520', 'full_text': \"@Murendi UK done with us long time ago,so they following in their footsteps. Election of President Joe Biden based on American voter's needs who rejected former President Trump convincingly. So it shouldn't raise any eyebrows knowing he's implementing what's suitable to his country\", 'truncated': False, 'display_text_range': [9, 282], 'entities': {'hashtags': [], 'symbols': [], 'user_mentions': [{'screen_name': 'Murendi', 'name': 'Murendeni Mafumo', 'id': 41323575, 'id_str': '41323575', 'indices': [0, 8]}], 'urls': []}, 'metadata': {'iso_language_code': 'en', 'result_type': 'recent'}, 'source': '<a href=\"http://twitter.com/download/android\" rel=\"nofollow\">Twitter for Android</a>', 'in_reply_to_status_id': 1353674745238138882, 'in_reply_to_status_id_str': '1353674745238138882', 'in_reply_to_user_id': 41323575, 'in_reply_to_user_id_str': '41323575', 'in_reply_to_screen_name': 'Murendi', 'user': {'id': 1117949558561103872, 'id_str': '1117949558561103872', 'name': 'uPhuthumile', 'screen_name': 'Watu_JayP', 'location': 'South Africa', 'description': \"I hunt thieving bastards same as hunting hares.  Show me a corrupt bastard even where eagles dare,I'll do the rest\", 'url': None, 'entities': {'description': {'urls': []}}, 'protected': False, 'followers_count': 5418, 'friends_count': 5113, 'listed_count': 4, 'created_at': 'Tue Apr 16 00:35:20 +0000 2019', 'favourites_count': 68578, 'utc_offset': None, 'time_zone': None, 'geo_enabled': False, 'verified': False, 'statuses_count': 38996, 'lang': None, 'contributors_enabled': False, 'is_translator': False, 'is_translation_enabled': False, 'profile_background_color': 'F5F8FA', 'profile_background_image_url': None, 'profile_background_image_url_https': None, 'profile_background_tile': False, 'profile_image_url': 'http://pbs.twimg.com/profile_images/1312720752341331968/qchSlN_Q_normal.jpg', 'profile_image_url_https': 'https://pbs.twimg.com/profile_images/1312720752341331968/qchSlN_Q_normal.jpg', 'profile_banner_url': 'https://pbs.twimg.com/profile_banners/1117949558561103872/1600530782', 'profile_link_color': '1DA1F2', 'profile_sidebar_border_color': 'C0DEED', 'profile_sidebar_fill_color': 'DDEEF6', 'profile_text_color': '333333', 'profile_use_background_image': True, 'has_extended_profile': True, 'default_profile': True, 'default_profile_image': False, 'following': False, 'follow_request_sent': False, 'notifications': False, 'translator_type': 'none'}, 'geo': None, 'coordinates': None, 'place': None, 'contributors': None, 'is_quote_status': False, 'retweet_count': 0, 'favorite_count': 0, 'favorited': False, 'retweeted': False, 'lang': 'en'}, created_at=datetime.datetime(2021, 1, 25, 12, 14, 4), id=1353677513797611520, id_str='1353677513797611520', full_text=\"@Murendi UK done with us long time ago,so they following in their footsteps. Election of President Joe Biden based on American voter's needs who rejected former President Trump convincingly. So it shouldn't raise any eyebrows knowing he's implementing what's suitable to his country\", truncated=False, display_text_range=[9, 282], entities={'hashtags': [], 'symbols': [], 'user_mentions': [{'screen_name': 'Murendi', 'name': 'Murendeni Mafumo', 'id': 41323575, 'id_str': '41323575', 'indices': [0, 8]}], 'urls': []}, metadata={'iso_language_code': 'en', 'result_type': 'recent'}, source='Twitter for Android', source_url='http://twitter.com/download/android', in_reply_to_status_id=1353674745238138882, in_reply_to_status_id_str='1353674745238138882', in_reply_to_user_id=41323575, in_reply_to_user_id_str='41323575', in_reply_to_screen_name='Murendi', author=User(_api=<tweepy.api.API object at 0x0000022C324EECA0>, _json={'id': 1117949558561103872, 'id_str': '1117949558561103872', 'name': 'uPhuthumile', 'screen_name': 'Watu_JayP', 'location': 'South Africa', 'description': \"I hunt thieving bastards same as hunting hares.  Show me a corrupt bastard even where eagles dare,I'll do the rest\", 'url': None, 'entities': {'description': {'urls': []}}, 'protected': False, 'followers_count': 5418, 'friends_count': 5113, 'listed_count': 4, 'created_at': 'Tue Apr 16 00:35:20 +0000 2019', 'favourites_count': 68578, 'utc_offset': None, 'time_zone': None, 'geo_enabled': False, 'verified': False, 'statuses_count': 38996, 'lang': None, 'contributors_enabled': False, 'is_translator': False, 'is_translation_enabled': False, 'profile_background_color': 'F5F8FA', 'profile_background_image_url': None, 'profile_background_image_url_https': None, 'profile_background_tile': False, 'profile_image_url': 'http://pbs.twimg.com/profile_images/1312720752341331968/qchSlN_Q_normal.jpg', 'profile_image_url_https': 'https://pbs.twimg.com/profile_images/1312720752341331968/qchSlN_Q_normal.jpg', 'profile_banner_url': 'https://pbs.twimg.com/profile_banners/1117949558561103872/1600530782', 'profile_link_color': '1DA1F2', 'profile_sidebar_border_color': 'C0DEED', 'profile_sidebar_fill_color': 'DDEEF6', 'profile_text_color': '333333', 'profile_use_background_image': True, 'has_extended_profile': True, 'default_profile': True, 'default_profile_image': False, 'following': False, 'follow_request_sent': False, 'notifications': False, 'translator_type': 'none'}, id=1117949558561103872, id_str='1117949558561103872', name='uPhuthumile', screen_name='Watu_JayP', location='South Africa', description=\"I hunt thieving bastards same as hunting hares.  Show me a corrupt bastard even where eagles dare,I'll do the rest\", url=None, entities={'description': {'urls': []}}, protected=False, followers_count=5418, friends_count=5113, listed_count=4, created_at=datetime.datetime(2019, 4, 16, 0, 35, 20), favourites_count=68578, utc_offset=None, time_zone=None, geo_enabled=False, verified=False, statuses_count=38996, lang=None, contributors_enabled=False, is_translator=False, is_translation_enabled=False, profile_background_color='F5F8FA', profile_background_image_url=None, profile_background_image_url_https=None, profile_background_tile=False, profile_image_url='http://pbs.twimg.com/profile_images/1312720752341331968/qchSlN_Q_normal.jpg', profile_image_url_https='https://pbs.twimg.com/profile_images/1312720752341331968/qchSlN_Q_normal.jpg', profile_banner_url='https://pbs.twimg.com/profile_banners/1117949558561103872/1600530782', profile_link_color='1DA1F2', profile_sidebar_border_color='C0DEED', profile_sidebar_fill_color='DDEEF6', profile_text_color='333333', profile_use_background_image=True, has_extended_profile=True, default_profile=True, default_profile_image=False, following=False, follow_request_sent=False, notifications=False, translator_type='none'), user=User(_api=<tweepy.api.API object at 0x0000022C324EECA0>, _json={'id': 1117949558561103872, 'id_str': '1117949558561103872', 'name': 'uPhuthumile', 'screen_name': 'Watu_JayP', 'location': 'South Africa', 'description': \"I hunt thieving bastards same as hunting hares.  Show me a corrupt bastard even where eagles dare,I'll do the rest\", 'url': None, 'entities': {'description': {'urls': []}}, 'protected': False, 'followers_count': 5418, 'friends_count': 5113, 'listed_count': 4, 'created_at': 'Tue Apr 16 00:35:20 +0000 2019', 'favourites_count': 68578, 'utc_offset': None, 'time_zone': None, 'geo_enabled': False, 'verified': False, 'statuses_count': 38996, 'lang': None, 'contributors_enabled': False, 'is_translator': False, 'is_translation_enabled': False, 'profile_background_color': 'F5F8FA', 'profile_background_image_url': None, 'profile_background_image_url_https': None, 'profile_background_tile': False, 'profile_image_url': 'http://pbs.twimg.com/profile_images/1312720752341331968/qchSlN_Q_normal.jpg', 'profile_image_url_https': 'https://pbs.twimg.com/profile_images/1312720752341331968/qchSlN_Q_normal.jpg', 'profile_banner_url': 'https://pbs.twimg.com/profile_banners/1117949558561103872/1600530782', 'profile_link_color': '1DA1F2', 'profile_sidebar_border_color': 'C0DEED', 'profile_sidebar_fill_color': 'DDEEF6', 'profile_text_color': '333333', 'profile_use_background_image': True, 'has_extended_profile': True, 'default_profile': True, 'default_profile_image': False, 'following': False, 'follow_request_sent': False, 'notifications': False, 'translator_type': 'none'}, id=1117949558561103872, id_str='1117949558561103872', name='uPhuthumile', screen_name='Watu_JayP', location='South Africa', description=\"I hunt thieving bastards same as hunting hares.  Show me a corrupt bastard even where eagles dare,I'll do the rest\", url=None, entities={'description': {'urls': []}}, protected=False, followers_count=5418, friends_count=5113, listed_count=4, created_at=datetime.datetime(2019, 4, 16, 0, 35, 20), favourites_count=68578, utc_offset=None, time_zone=None, geo_enabled=False, verified=False, statuses_count=38996, lang=None, contributors_enabled=False, is_translator=False, is_translation_enabled=False, profile_background_color='F5F8FA', profile_background_image_url=None, profile_background_image_url_https=None, profile_background_tile=False, profile_image_url='http://pbs.twimg.com/profile_images/1312720752341331968/qchSlN_Q_normal.jpg', profile_image_url_https='https://pbs.twimg.com/profile_images/1312720752341331968/qchSlN_Q_normal.jpg', profile_banner_url='https://pbs.twimg.com/profile_banners/1117949558561103872/1600530782', profile_link_color='1DA1F2', profile_sidebar_border_color='C0DEED', profile_sidebar_fill_color='DDEEF6', profile_text_color='333333', profile_use_background_image=True, has_extended_profile=True, default_profile=True, default_profile_image=False, following=False, follow_request_sent=False, notifications=False, translator_type='none'), geo=None, coordinates=None, place=None, contributors=None, is_quote_status=False, retweet_count=0, favorite_count=0, favorited=False, retweeted=False, lang='en')\n",
      "=================================================\n",
      "Status(_api=<tweepy.api.API object at 0x0000022C324EECA0>, _json={'created_at': 'Mon Jan 25 12:00:35 +0000 2021', 'id': 1353674120521797638, 'id_str': '1353674120521797638', 'full_text': \"The clean energy and sustainable infrastructure plan that formed a key part of Joe Biden's election campaign is bringing optimism to an industry hopeful of a much-awaited roll-out of projects in the US, writes @viola29 \\n\\nhttps://t.co/tfxTDhwB7r\", 'truncated': False, 'display_text_range': [0, 244], 'entities': {'hashtags': [], 'symbols': [], 'user_mentions': [{'screen_name': 'viola29', 'name': 'Viola Caon', 'id': 96009893, 'id_str': '96009893', 'indices': [210, 218]}], 'urls': [{'url': 'https://t.co/tfxTDhwB7r', 'expanded_url': 'https://buff.ly/3qEA5i1', 'display_url': 'buff.ly/3qEA5i1', 'indices': [221, 244]}]}, 'metadata': {'iso_language_code': 'en', 'result_type': 'recent'}, 'source': '<a href=\"https://buffer.com\" rel=\"nofollow\">Buffer</a>', 'in_reply_to_status_id': None, 'in_reply_to_status_id_str': None, 'in_reply_to_user_id': None, 'in_reply_to_user_id_str': None, 'in_reply_to_screen_name': None, 'user': {'id': 1285939670032027648, 'id_str': '1285939670032027648', 'name': 'Investment Monitor', 'screen_name': 'InvestMonitorAI', 'location': '', 'description': \"Foreign direct investment data, intelligence and insight from the industry's leading journalists and experts. A New Statesman Media Group publication.\", 'url': 'https://t.co/g1ZcEZh7kP', 'entities': {'url': {'urls': [{'url': 'https://t.co/g1ZcEZh7kP', 'expanded_url': 'http://www.InvestmentMonitor.ai', 'display_url': 'InvestmentMonitor.ai', 'indices': [0, 23]}]}, 'description': {'urls': []}}, 'protected': False, 'followers_count': 267, 'friends_count': 175, 'listed_count': 2, 'created_at': 'Wed Jul 22 14:08:15 +0000 2020', 'favourites_count': 0, 'utc_offset': None, 'time_zone': None, 'geo_enabled': False, 'verified': False, 'statuses_count': 1152, 'lang': None, 'contributors_enabled': False, 'is_translator': False, 'is_translation_enabled': False, 'profile_background_color': 'F5F8FA', 'profile_background_image_url': None, 'profile_background_image_url_https': None, 'profile_background_tile': False, 'profile_image_url': 'http://pbs.twimg.com/profile_images/1290267827644096515/ouSuUvAF_normal.png', 'profile_image_url_https': 'https://pbs.twimg.com/profile_images/1290267827644096515/ouSuUvAF_normal.png', 'profile_banner_url': 'https://pbs.twimg.com/profile_banners/1285939670032027648/1596463546', 'profile_link_color': '1DA1F2', 'profile_sidebar_border_color': 'C0DEED', 'profile_sidebar_fill_color': 'DDEEF6', 'profile_text_color': '333333', 'profile_use_background_image': True, 'has_extended_profile': True, 'default_profile': True, 'default_profile_image': False, 'following': False, 'follow_request_sent': False, 'notifications': False, 'translator_type': 'none'}, 'geo': None, 'coordinates': None, 'place': None, 'contributors': None, 'is_quote_status': False, 'retweet_count': 0, 'favorite_count': 1, 'favorited': False, 'retweeted': False, 'possibly_sensitive': False, 'lang': 'en'}, created_at=datetime.datetime(2021, 1, 25, 12, 0, 35), id=1353674120521797638, id_str='1353674120521797638', full_text=\"The clean energy and sustainable infrastructure plan that formed a key part of Joe Biden's election campaign is bringing optimism to an industry hopeful of a much-awaited roll-out of projects in the US, writes @viola29 \\n\\nhttps://t.co/tfxTDhwB7r\", truncated=False, display_text_range=[0, 244], entities={'hashtags': [], 'symbols': [], 'user_mentions': [{'screen_name': 'viola29', 'name': 'Viola Caon', 'id': 96009893, 'id_str': '96009893', 'indices': [210, 218]}], 'urls': [{'url': 'https://t.co/tfxTDhwB7r', 'expanded_url': 'https://buff.ly/3qEA5i1', 'display_url': 'buff.ly/3qEA5i1', 'indices': [221, 244]}]}, metadata={'iso_language_code': 'en', 'result_type': 'recent'}, source='Buffer', source_url='https://buffer.com', in_reply_to_status_id=None, in_reply_to_status_id_str=None, in_reply_to_user_id=None, in_reply_to_user_id_str=None, in_reply_to_screen_name=None, author=User(_api=<tweepy.api.API object at 0x0000022C324EECA0>, _json={'id': 1285939670032027648, 'id_str': '1285939670032027648', 'name': 'Investment Monitor', 'screen_name': 'InvestMonitorAI', 'location': '', 'description': \"Foreign direct investment data, intelligence and insight from the industry's leading journalists and experts. A New Statesman Media Group publication.\", 'url': 'https://t.co/g1ZcEZh7kP', 'entities': {'url': {'urls': [{'url': 'https://t.co/g1ZcEZh7kP', 'expanded_url': 'http://www.InvestmentMonitor.ai', 'display_url': 'InvestmentMonitor.ai', 'indices': [0, 23]}]}, 'description': {'urls': []}}, 'protected': False, 'followers_count': 267, 'friends_count': 175, 'listed_count': 2, 'created_at': 'Wed Jul 22 14:08:15 +0000 2020', 'favourites_count': 0, 'utc_offset': None, 'time_zone': None, 'geo_enabled': False, 'verified': False, 'statuses_count': 1152, 'lang': None, 'contributors_enabled': False, 'is_translator': False, 'is_translation_enabled': False, 'profile_background_color': 'F5F8FA', 'profile_background_image_url': None, 'profile_background_image_url_https': None, 'profile_background_tile': False, 'profile_image_url': 'http://pbs.twimg.com/profile_images/1290267827644096515/ouSuUvAF_normal.png', 'profile_image_url_https': 'https://pbs.twimg.com/profile_images/1290267827644096515/ouSuUvAF_normal.png', 'profile_banner_url': 'https://pbs.twimg.com/profile_banners/1285939670032027648/1596463546', 'profile_link_color': '1DA1F2', 'profile_sidebar_border_color': 'C0DEED', 'profile_sidebar_fill_color': 'DDEEF6', 'profile_text_color': '333333', 'profile_use_background_image': True, 'has_extended_profile': True, 'default_profile': True, 'default_profile_image': False, 'following': False, 'follow_request_sent': False, 'notifications': False, 'translator_type': 'none'}, id=1285939670032027648, id_str='1285939670032027648', name='Investment Monitor', screen_name='InvestMonitorAI', location='', description=\"Foreign direct investment data, intelligence and insight from the industry's leading journalists and experts. A New Statesman Media Group publication.\", url='https://t.co/g1ZcEZh7kP', entities={'url': {'urls': [{'url': 'https://t.co/g1ZcEZh7kP', 'expanded_url': 'http://www.InvestmentMonitor.ai', 'display_url': 'InvestmentMonitor.ai', 'indices': [0, 23]}]}, 'description': {'urls': []}}, protected=False, followers_count=267, friends_count=175, listed_count=2, created_at=datetime.datetime(2020, 7, 22, 14, 8, 15), favourites_count=0, utc_offset=None, time_zone=None, geo_enabled=False, verified=False, statuses_count=1152, lang=None, contributors_enabled=False, is_translator=False, is_translation_enabled=False, profile_background_color='F5F8FA', profile_background_image_url=None, profile_background_image_url_https=None, profile_background_tile=False, profile_image_url='http://pbs.twimg.com/profile_images/1290267827644096515/ouSuUvAF_normal.png', profile_image_url_https='https://pbs.twimg.com/profile_images/1290267827644096515/ouSuUvAF_normal.png', profile_banner_url='https://pbs.twimg.com/profile_banners/1285939670032027648/1596463546', profile_link_color='1DA1F2', profile_sidebar_border_color='C0DEED', profile_sidebar_fill_color='DDEEF6', profile_text_color='333333', profile_use_background_image=True, has_extended_profile=True, default_profile=True, default_profile_image=False, following=False, follow_request_sent=False, notifications=False, translator_type='none'), user=User(_api=<tweepy.api.API object at 0x0000022C324EECA0>, _json={'id': 1285939670032027648, 'id_str': '1285939670032027648', 'name': 'Investment Monitor', 'screen_name': 'InvestMonitorAI', 'location': '', 'description': \"Foreign direct investment data, intelligence and insight from the industry's leading journalists and experts. A New Statesman Media Group publication.\", 'url': 'https://t.co/g1ZcEZh7kP', 'entities': {'url': {'urls': [{'url': 'https://t.co/g1ZcEZh7kP', 'expanded_url': 'http://www.InvestmentMonitor.ai', 'display_url': 'InvestmentMonitor.ai', 'indices': [0, 23]}]}, 'description': {'urls': []}}, 'protected': False, 'followers_count': 267, 'friends_count': 175, 'listed_count': 2, 'created_at': 'Wed Jul 22 14:08:15 +0000 2020', 'favourites_count': 0, 'utc_offset': None, 'time_zone': None, 'geo_enabled': False, 'verified': False, 'statuses_count': 1152, 'lang': None, 'contributors_enabled': False, 'is_translator': False, 'is_translation_enabled': False, 'profile_background_color': 'F5F8FA', 'profile_background_image_url': None, 'profile_background_image_url_https': None, 'profile_background_tile': False, 'profile_image_url': 'http://pbs.twimg.com/profile_images/1290267827644096515/ouSuUvAF_normal.png', 'profile_image_url_https': 'https://pbs.twimg.com/profile_images/1290267827644096515/ouSuUvAF_normal.png', 'profile_banner_url': 'https://pbs.twimg.com/profile_banners/1285939670032027648/1596463546', 'profile_link_color': '1DA1F2', 'profile_sidebar_border_color': 'C0DEED', 'profile_sidebar_fill_color': 'DDEEF6', 'profile_text_color': '333333', 'profile_use_background_image': True, 'has_extended_profile': True, 'default_profile': True, 'default_profile_image': False, 'following': False, 'follow_request_sent': False, 'notifications': False, 'translator_type': 'none'}, id=1285939670032027648, id_str='1285939670032027648', name='Investment Monitor', screen_name='InvestMonitorAI', location='', description=\"Foreign direct investment data, intelligence and insight from the industry's leading journalists and experts. A New Statesman Media Group publication.\", url='https://t.co/g1ZcEZh7kP', entities={'url': {'urls': [{'url': 'https://t.co/g1ZcEZh7kP', 'expanded_url': 'http://www.InvestmentMonitor.ai', 'display_url': 'InvestmentMonitor.ai', 'indices': [0, 23]}]}, 'description': {'urls': []}}, protected=False, followers_count=267, friends_count=175, listed_count=2, created_at=datetime.datetime(2020, 7, 22, 14, 8, 15), favourites_count=0, utc_offset=None, time_zone=None, geo_enabled=False, verified=False, statuses_count=1152, lang=None, contributors_enabled=False, is_translator=False, is_translation_enabled=False, profile_background_color='F5F8FA', profile_background_image_url=None, profile_background_image_url_https=None, profile_background_tile=False, profile_image_url='http://pbs.twimg.com/profile_images/1290267827644096515/ouSuUvAF_normal.png', profile_image_url_https='https://pbs.twimg.com/profile_images/1290267827644096515/ouSuUvAF_normal.png', profile_banner_url='https://pbs.twimg.com/profile_banners/1285939670032027648/1596463546', profile_link_color='1DA1F2', profile_sidebar_border_color='C0DEED', profile_sidebar_fill_color='DDEEF6', profile_text_color='333333', profile_use_background_image=True, has_extended_profile=True, default_profile=True, default_profile_image=False, following=False, follow_request_sent=False, notifications=False, translator_type='none'), geo=None, coordinates=None, place=None, contributors=None, is_quote_status=False, retweet_count=0, favorite_count=1, favorited=False, retweeted=False, possibly_sensitive=False, lang='en')\n",
      "=================================================\n",
      "Status(_api=<tweepy.api.API object at 0x0000022C324EECA0>, _json={'created_at': 'Mon Jan 25 11:55:08 +0000 2021', 'id': 1353672751400312832, 'id_str': '1353672751400312832', 'full_text': \"Two principles flow from the US Election and Joe Biden's Inauguration.\\nYou can't fix the Economy without fixing the pandemic\\nA lie told for power or profit is still a lie.\\nFull. Stop.\", 'truncated': False, 'display_text_range': [0, 183], 'entities': {'hashtags': [], 'symbols': [], 'user_mentions': [], 'urls': []}, 'metadata': {'iso_language_code': 'en', 'result_type': 'recent'}, 'source': '<a href=\"https://mobile.twitter.com\" rel=\"nofollow\">Twitter Web App</a>', 'in_reply_to_status_id': None, 'in_reply_to_status_id_str': None, 'in_reply_to_user_id': None, 'in_reply_to_user_id_str': None, 'in_reply_to_screen_name': None, 'user': {'id': 296118069, 'id_str': '296118069', 'name': 'John Doherty', 'screen_name': 'OneRealJGD', 'location': 'Catford', 'description': 'Engaged in our local community with integrity. Let our community voice speak to our needs and wishes. Led by those recognisably accountable to us.', 'url': None, 'entities': {'description': {'urls': []}}, 'protected': False, 'followers_count': 94, 'friends_count': 273, 'listed_count': 0, 'created_at': 'Tue May 10 07:06:42 +0000 2011', 'favourites_count': 2635, 'utc_offset': None, 'time_zone': None, 'geo_enabled': True, 'verified': False, 'statuses_count': 2399, 'lang': None, 'contributors_enabled': False, 'is_translator': False, 'is_translation_enabled': False, 'profile_background_color': 'C0DEED', 'profile_background_image_url': 'http://abs.twimg.com/images/themes/theme1/bg.png', 'profile_background_image_url_https': 'https://abs.twimg.com/images/themes/theme1/bg.png', 'profile_background_tile': False, 'profile_image_url': 'http://pbs.twimg.com/profile_images/1346645985/saltire_1447_normal.gif', 'profile_image_url_https': 'https://pbs.twimg.com/profile_images/1346645985/saltire_1447_normal.gif', 'profile_banner_url': 'https://pbs.twimg.com/profile_banners/296118069/1598875285', 'profile_link_color': '1DA1F2', 'profile_sidebar_border_color': 'C0DEED', 'profile_sidebar_fill_color': 'DDEEF6', 'profile_text_color': '333333', 'profile_use_background_image': True, 'has_extended_profile': True, 'default_profile': True, 'default_profile_image': False, 'following': False, 'follow_request_sent': False, 'notifications': False, 'translator_type': 'none'}, 'geo': None, 'coordinates': None, 'place': None, 'contributors': None, 'is_quote_status': False, 'retweet_count': 0, 'favorite_count': 1, 'favorited': False, 'retweeted': False, 'lang': 'en'}, created_at=datetime.datetime(2021, 1, 25, 11, 55, 8), id=1353672751400312832, id_str='1353672751400312832', full_text=\"Two principles flow from the US Election and Joe Biden's Inauguration.\\nYou can't fix the Economy without fixing the pandemic\\nA lie told for power or profit is still a lie.\\nFull. Stop.\", truncated=False, display_text_range=[0, 183], entities={'hashtags': [], 'symbols': [], 'user_mentions': [], 'urls': []}, metadata={'iso_language_code': 'en', 'result_type': 'recent'}, source='Twitter Web App', source_url='https://mobile.twitter.com', in_reply_to_status_id=None, in_reply_to_status_id_str=None, in_reply_to_user_id=None, in_reply_to_user_id_str=None, in_reply_to_screen_name=None, author=User(_api=<tweepy.api.API object at 0x0000022C324EECA0>, _json={'id': 296118069, 'id_str': '296118069', 'name': 'John Doherty', 'screen_name': 'OneRealJGD', 'location': 'Catford', 'description': 'Engaged in our local community with integrity. Let our community voice speak to our needs and wishes. Led by those recognisably accountable to us.', 'url': None, 'entities': {'description': {'urls': []}}, 'protected': False, 'followers_count': 94, 'friends_count': 273, 'listed_count': 0, 'created_at': 'Tue May 10 07:06:42 +0000 2011', 'favourites_count': 2635, 'utc_offset': None, 'time_zone': None, 'geo_enabled': True, 'verified': False, 'statuses_count': 2399, 'lang': None, 'contributors_enabled': False, 'is_translator': False, 'is_translation_enabled': False, 'profile_background_color': 'C0DEED', 'profile_background_image_url': 'http://abs.twimg.com/images/themes/theme1/bg.png', 'profile_background_image_url_https': 'https://abs.twimg.com/images/themes/theme1/bg.png', 'profile_background_tile': False, 'profile_image_url': 'http://pbs.twimg.com/profile_images/1346645985/saltire_1447_normal.gif', 'profile_image_url_https': 'https://pbs.twimg.com/profile_images/1346645985/saltire_1447_normal.gif', 'profile_banner_url': 'https://pbs.twimg.com/profile_banners/296118069/1598875285', 'profile_link_color': '1DA1F2', 'profile_sidebar_border_color': 'C0DEED', 'profile_sidebar_fill_color': 'DDEEF6', 'profile_text_color': '333333', 'profile_use_background_image': True, 'has_extended_profile': True, 'default_profile': True, 'default_profile_image': False, 'following': False, 'follow_request_sent': False, 'notifications': False, 'translator_type': 'none'}, id=296118069, id_str='296118069', name='John Doherty', screen_name='OneRealJGD', location='Catford', description='Engaged in our local community with integrity. Let our community voice speak to our needs and wishes. Led by those recognisably accountable to us.', url=None, entities={'description': {'urls': []}}, protected=False, followers_count=94, friends_count=273, listed_count=0, created_at=datetime.datetime(2011, 5, 10, 7, 6, 42), favourites_count=2635, utc_offset=None, time_zone=None, geo_enabled=True, verified=False, statuses_count=2399, lang=None, contributors_enabled=False, is_translator=False, is_translation_enabled=False, profile_background_color='C0DEED', profile_background_image_url='http://abs.twimg.com/images/themes/theme1/bg.png', profile_background_image_url_https='https://abs.twimg.com/images/themes/theme1/bg.png', profile_background_tile=False, profile_image_url='http://pbs.twimg.com/profile_images/1346645985/saltire_1447_normal.gif', profile_image_url_https='https://pbs.twimg.com/profile_images/1346645985/saltire_1447_normal.gif', profile_banner_url='https://pbs.twimg.com/profile_banners/296118069/1598875285', profile_link_color='1DA1F2', profile_sidebar_border_color='C0DEED', profile_sidebar_fill_color='DDEEF6', profile_text_color='333333', profile_use_background_image=True, has_extended_profile=True, default_profile=True, default_profile_image=False, following=False, follow_request_sent=False, notifications=False, translator_type='none'), user=User(_api=<tweepy.api.API object at 0x0000022C324EECA0>, _json={'id': 296118069, 'id_str': '296118069', 'name': 'John Doherty', 'screen_name': 'OneRealJGD', 'location': 'Catford', 'description': 'Engaged in our local community with integrity. Let our community voice speak to our needs and wishes. Led by those recognisably accountable to us.', 'url': None, 'entities': {'description': {'urls': []}}, 'protected': False, 'followers_count': 94, 'friends_count': 273, 'listed_count': 0, 'created_at': 'Tue May 10 07:06:42 +0000 2011', 'favourites_count': 2635, 'utc_offset': None, 'time_zone': None, 'geo_enabled': True, 'verified': False, 'statuses_count': 2399, 'lang': None, 'contributors_enabled': False, 'is_translator': False, 'is_translation_enabled': False, 'profile_background_color': 'C0DEED', 'profile_background_image_url': 'http://abs.twimg.com/images/themes/theme1/bg.png', 'profile_background_image_url_https': 'https://abs.twimg.com/images/themes/theme1/bg.png', 'profile_background_tile': False, 'profile_image_url': 'http://pbs.twimg.com/profile_images/1346645985/saltire_1447_normal.gif', 'profile_image_url_https': 'https://pbs.twimg.com/profile_images/1346645985/saltire_1447_normal.gif', 'profile_banner_url': 'https://pbs.twimg.com/profile_banners/296118069/1598875285', 'profile_link_color': '1DA1F2', 'profile_sidebar_border_color': 'C0DEED', 'profile_sidebar_fill_color': 'DDEEF6', 'profile_text_color': '333333', 'profile_use_background_image': True, 'has_extended_profile': True, 'default_profile': True, 'default_profile_image': False, 'following': False, 'follow_request_sent': False, 'notifications': False, 'translator_type': 'none'}, id=296118069, id_str='296118069', name='John Doherty', screen_name='OneRealJGD', location='Catford', description='Engaged in our local community with integrity. Let our community voice speak to our needs and wishes. Led by those recognisably accountable to us.', url=None, entities={'description': {'urls': []}}, protected=False, followers_count=94, friends_count=273, listed_count=0, created_at=datetime.datetime(2011, 5, 10, 7, 6, 42), favourites_count=2635, utc_offset=None, time_zone=None, geo_enabled=True, verified=False, statuses_count=2399, lang=None, contributors_enabled=False, is_translator=False, is_translation_enabled=False, profile_background_color='C0DEED', profile_background_image_url='http://abs.twimg.com/images/themes/theme1/bg.png', profile_background_image_url_https='https://abs.twimg.com/images/themes/theme1/bg.png', profile_background_tile=False, profile_image_url='http://pbs.twimg.com/profile_images/1346645985/saltire_1447_normal.gif', profile_image_url_https='https://pbs.twimg.com/profile_images/1346645985/saltire_1447_normal.gif', profile_banner_url='https://pbs.twimg.com/profile_banners/296118069/1598875285', profile_link_color='1DA1F2', profile_sidebar_border_color='C0DEED', profile_sidebar_fill_color='DDEEF6', profile_text_color='333333', profile_use_background_image=True, has_extended_profile=True, default_profile=True, default_profile_image=False, following=False, follow_request_sent=False, notifications=False, translator_type='none'), geo=None, coordinates=None, place=None, contributors=None, is_quote_status=False, retweet_count=0, favorite_count=1, favorited=False, retweeted=False, lang='en')\n",
      "=================================================\n",
      "Status(_api=<tweepy.api.API object at 0x0000022C324EECA0>, _json={'created_at': 'Mon Jan 25 11:26:39 +0000 2021', 'id': 1353665581451530240, 'id_str': '1353665581451530240', 'full_text': 'These people need to go. Its #sedition. and it is what built up to the #capitolriots. #RandPaul  Paul Refuses to Accept Legitmacy of 2020 Election or Joe Biden as President https://t.co/LAf0fQGLbt #GOP #spreadinglies #inflammatory', 'truncated': False, 'display_text_range': [0, 230], 'entities': {'hashtags': [{'text': 'sedition', 'indices': [29, 38]}, {'text': 'capitolriots', 'indices': [71, 84]}, {'text': 'RandPaul', 'indices': [86, 95]}, {'text': 'GOP', 'indices': [197, 201]}, {'text': 'spreadinglies', 'indices': [202, 216]}, {'text': 'inflammatory', 'indices': [217, 230]}], 'symbols': [], 'user_mentions': [], 'urls': [{'url': 'https://t.co/LAf0fQGLbt', 'expanded_url': 'http://a.msn.com/01/en-us/BB1d3h4P?ocid=st', 'display_url': 'a.msn.com/01/en-us/BB1d3…', 'indices': [173, 196]}]}, 'metadata': {'iso_language_code': 'en', 'result_type': 'recent'}, 'source': '<a href=\"https://mobile.twitter.com\" rel=\"nofollow\">Twitter Web App</a>', 'in_reply_to_status_id': None, 'in_reply_to_status_id_str': None, 'in_reply_to_user_id': None, 'in_reply_to_user_id_str': None, 'in_reply_to_screen_name': None, 'user': {'id': 580207995, 'id_str': '580207995', 'name': 'K.D. Rose', 'screen_name': 'KDRose1', 'location': 'USA', 'description': 'Pushcart Prize nominated Poet and Author. Former award winning analyst at State Department & DHS. #StillAnalystatheart, #Poet, #Musiclover #Geek, #Spoonie', 'url': 'https://t.co/p4V94pstkB', 'entities': {'url': {'urls': [{'url': 'https://t.co/p4V94pstkB', 'expanded_url': 'https://www.linkedin.com/in/kdroseauthor/', 'display_url': 'linkedin.com/in/kdroseautho…', 'indices': [0, 23]}]}, 'description': {'urls': []}}, 'protected': False, 'followers_count': 2301, 'friends_count': 2535, 'listed_count': 89, 'created_at': 'Mon May 14 18:39:00 +0000 2012', 'favourites_count': 3203, 'utc_offset': None, 'time_zone': None, 'geo_enabled': False, 'verified': False, 'statuses_count': 12202, 'lang': None, 'contributors_enabled': False, 'is_translator': False, 'is_translation_enabled': False, 'profile_background_color': '0099B9', 'profile_background_image_url': 'http://abs.twimg.com/images/themes/theme4/bg.gif', 'profile_background_image_url_https': 'https://abs.twimg.com/images/themes/theme4/bg.gif', 'profile_background_tile': True, 'profile_image_url': 'http://pbs.twimg.com/profile_images/946075149693984768/f5dJURQu_normal.jpg', 'profile_image_url_https': 'https://pbs.twimg.com/profile_images/946075149693984768/f5dJURQu_normal.jpg', 'profile_banner_url': 'https://pbs.twimg.com/profile_banners/580207995/1514393470', 'profile_link_color': '89C9FA', 'profile_sidebar_border_color': '5ED4DC', 'profile_sidebar_fill_color': '95E8EC', 'profile_text_color': '3C3940', 'profile_use_background_image': True, 'has_extended_profile': True, 'default_profile': False, 'default_profile_image': False, 'following': False, 'follow_request_sent': False, 'notifications': False, 'translator_type': 'none'}, 'geo': None, 'coordinates': None, 'place': None, 'contributors': None, 'is_quote_status': False, 'retweet_count': 0, 'favorite_count': 0, 'favorited': False, 'retweeted': False, 'possibly_sensitive': False, 'lang': 'en'}, created_at=datetime.datetime(2021, 1, 25, 11, 26, 39), id=1353665581451530240, id_str='1353665581451530240', full_text='These people need to go. Its #sedition. and it is what built up to the #capitolriots. #RandPaul  Paul Refuses to Accept Legitmacy of 2020 Election or Joe Biden as President https://t.co/LAf0fQGLbt #GOP #spreadinglies #inflammatory', truncated=False, display_text_range=[0, 230], entities={'hashtags': [{'text': 'sedition', 'indices': [29, 38]}, {'text': 'capitolriots', 'indices': [71, 84]}, {'text': 'RandPaul', 'indices': [86, 95]}, {'text': 'GOP', 'indices': [197, 201]}, {'text': 'spreadinglies', 'indices': [202, 216]}, {'text': 'inflammatory', 'indices': [217, 230]}], 'symbols': [], 'user_mentions': [], 'urls': [{'url': 'https://t.co/LAf0fQGLbt', 'expanded_url': 'http://a.msn.com/01/en-us/BB1d3h4P?ocid=st', 'display_url': 'a.msn.com/01/en-us/BB1d3…', 'indices': [173, 196]}]}, metadata={'iso_language_code': 'en', 'result_type': 'recent'}, source='Twitter Web App', source_url='https://mobile.twitter.com', in_reply_to_status_id=None, in_reply_to_status_id_str=None, in_reply_to_user_id=None, in_reply_to_user_id_str=None, in_reply_to_screen_name=None, author=User(_api=<tweepy.api.API object at 0x0000022C324EECA0>, _json={'id': 580207995, 'id_str': '580207995', 'name': 'K.D. Rose', 'screen_name': 'KDRose1', 'location': 'USA', 'description': 'Pushcart Prize nominated Poet and Author. Former award winning analyst at State Department & DHS. #StillAnalystatheart, #Poet, #Musiclover #Geek, #Spoonie', 'url': 'https://t.co/p4V94pstkB', 'entities': {'url': {'urls': [{'url': 'https://t.co/p4V94pstkB', 'expanded_url': 'https://www.linkedin.com/in/kdroseauthor/', 'display_url': 'linkedin.com/in/kdroseautho…', 'indices': [0, 23]}]}, 'description': {'urls': []}}, 'protected': False, 'followers_count': 2301, 'friends_count': 2535, 'listed_count': 89, 'created_at': 'Mon May 14 18:39:00 +0000 2012', 'favourites_count': 3203, 'utc_offset': None, 'time_zone': None, 'geo_enabled': False, 'verified': False, 'statuses_count': 12202, 'lang': None, 'contributors_enabled': False, 'is_translator': False, 'is_translation_enabled': False, 'profile_background_color': '0099B9', 'profile_background_image_url': 'http://abs.twimg.com/images/themes/theme4/bg.gif', 'profile_background_image_url_https': 'https://abs.twimg.com/images/themes/theme4/bg.gif', 'profile_background_tile': True, 'profile_image_url': 'http://pbs.twimg.com/profile_images/946075149693984768/f5dJURQu_normal.jpg', 'profile_image_url_https': 'https://pbs.twimg.com/profile_images/946075149693984768/f5dJURQu_normal.jpg', 'profile_banner_url': 'https://pbs.twimg.com/profile_banners/580207995/1514393470', 'profile_link_color': '89C9FA', 'profile_sidebar_border_color': '5ED4DC', 'profile_sidebar_fill_color': '95E8EC', 'profile_text_color': '3C3940', 'profile_use_background_image': True, 'has_extended_profile': True, 'default_profile': False, 'default_profile_image': False, 'following': False, 'follow_request_sent': False, 'notifications': False, 'translator_type': 'none'}, id=580207995, id_str='580207995', name='K.D. Rose', screen_name='KDRose1', location='USA', description='Pushcart Prize nominated Poet and Author. Former award winning analyst at State Department & DHS. #StillAnalystatheart, #Poet, #Musiclover #Geek, #Spoonie', url='https://t.co/p4V94pstkB', entities={'url': {'urls': [{'url': 'https://t.co/p4V94pstkB', 'expanded_url': 'https://www.linkedin.com/in/kdroseauthor/', 'display_url': 'linkedin.com/in/kdroseautho…', 'indices': [0, 23]}]}, 'description': {'urls': []}}, protected=False, followers_count=2301, friends_count=2535, listed_count=89, created_at=datetime.datetime(2012, 5, 14, 18, 39), favourites_count=3203, utc_offset=None, time_zone=None, geo_enabled=False, verified=False, statuses_count=12202, lang=None, contributors_enabled=False, is_translator=False, is_translation_enabled=False, profile_background_color='0099B9', profile_background_image_url='http://abs.twimg.com/images/themes/theme4/bg.gif', profile_background_image_url_https='https://abs.twimg.com/images/themes/theme4/bg.gif', profile_background_tile=True, profile_image_url='http://pbs.twimg.com/profile_images/946075149693984768/f5dJURQu_normal.jpg', profile_image_url_https='https://pbs.twimg.com/profile_images/946075149693984768/f5dJURQu_normal.jpg', profile_banner_url='https://pbs.twimg.com/profile_banners/580207995/1514393470', profile_link_color='89C9FA', profile_sidebar_border_color='5ED4DC', profile_sidebar_fill_color='95E8EC', profile_text_color='3C3940', profile_use_background_image=True, has_extended_profile=True, default_profile=False, default_profile_image=False, following=False, follow_request_sent=False, notifications=False, translator_type='none'), user=User(_api=<tweepy.api.API object at 0x0000022C324EECA0>, _json={'id': 580207995, 'id_str': '580207995', 'name': 'K.D. Rose', 'screen_name': 'KDRose1', 'location': 'USA', 'description': 'Pushcart Prize nominated Poet and Author. Former award winning analyst at State Department & DHS. #StillAnalystatheart, #Poet, #Musiclover #Geek, #Spoonie', 'url': 'https://t.co/p4V94pstkB', 'entities': {'url': {'urls': [{'url': 'https://t.co/p4V94pstkB', 'expanded_url': 'https://www.linkedin.com/in/kdroseauthor/', 'display_url': 'linkedin.com/in/kdroseautho…', 'indices': [0, 23]}]}, 'description': {'urls': []}}, 'protected': False, 'followers_count': 2301, 'friends_count': 2535, 'listed_count': 89, 'created_at': 'Mon May 14 18:39:00 +0000 2012', 'favourites_count': 3203, 'utc_offset': None, 'time_zone': None, 'geo_enabled': False, 'verified': False, 'statuses_count': 12202, 'lang': None, 'contributors_enabled': False, 'is_translator': False, 'is_translation_enabled': False, 'profile_background_color': '0099B9', 'profile_background_image_url': 'http://abs.twimg.com/images/themes/theme4/bg.gif', 'profile_background_image_url_https': 'https://abs.twimg.com/images/themes/theme4/bg.gif', 'profile_background_tile': True, 'profile_image_url': 'http://pbs.twimg.com/profile_images/946075149693984768/f5dJURQu_normal.jpg', 'profile_image_url_https': 'https://pbs.twimg.com/profile_images/946075149693984768/f5dJURQu_normal.jpg', 'profile_banner_url': 'https://pbs.twimg.com/profile_banners/580207995/1514393470', 'profile_link_color': '89C9FA', 'profile_sidebar_border_color': '5ED4DC', 'profile_sidebar_fill_color': '95E8EC', 'profile_text_color': '3C3940', 'profile_use_background_image': True, 'has_extended_profile': True, 'default_profile': False, 'default_profile_image': False, 'following': False, 'follow_request_sent': False, 'notifications': False, 'translator_type': 'none'}, id=580207995, id_str='580207995', name='K.D. Rose', screen_name='KDRose1', location='USA', description='Pushcart Prize nominated Poet and Author. Former award winning analyst at State Department & DHS. #StillAnalystatheart, #Poet, #Musiclover #Geek, #Spoonie', url='https://t.co/p4V94pstkB', entities={'url': {'urls': [{'url': 'https://t.co/p4V94pstkB', 'expanded_url': 'https://www.linkedin.com/in/kdroseauthor/', 'display_url': 'linkedin.com/in/kdroseautho…', 'indices': [0, 23]}]}, 'description': {'urls': []}}, protected=False, followers_count=2301, friends_count=2535, listed_count=89, created_at=datetime.datetime(2012, 5, 14, 18, 39), favourites_count=3203, utc_offset=None, time_zone=None, geo_enabled=False, verified=False, statuses_count=12202, lang=None, contributors_enabled=False, is_translator=False, is_translation_enabled=False, profile_background_color='0099B9', profile_background_image_url='http://abs.twimg.com/images/themes/theme4/bg.gif', profile_background_image_url_https='https://abs.twimg.com/images/themes/theme4/bg.gif', profile_background_tile=True, profile_image_url='http://pbs.twimg.com/profile_images/946075149693984768/f5dJURQu_normal.jpg', profile_image_url_https='https://pbs.twimg.com/profile_images/946075149693984768/f5dJURQu_normal.jpg', profile_banner_url='https://pbs.twimg.com/profile_banners/580207995/1514393470', profile_link_color='89C9FA', profile_sidebar_border_color='5ED4DC', profile_sidebar_fill_color='95E8EC', profile_text_color='3C3940', profile_use_background_image=True, has_extended_profile=True, default_profile=False, default_profile_image=False, following=False, follow_request_sent=False, notifications=False, translator_type='none'), geo=None, coordinates=None, place=None, contributors=None, is_quote_status=False, retweet_count=0, favorite_count=0, favorited=False, retweeted=False, possibly_sensitive=False, lang='en')\n",
      "=================================================\n",
      "Status(_api=<tweepy.api.API object at 0x0000022C324EECA0>, _json={'created_at': 'Mon Jan 25 11:25:06 +0000 2021', 'id': 1353665193826545665, 'id_str': '1353665193826545665', 'full_text': '@GReschenthaler @mikekellyPA @repscottperry Joe Biden is the President. You are seditionists. #TrumpTreason \\n\\nhttps://t.co/FMztti2Czt', 'truncated': False, 'display_text_range': [0, 133], 'entities': {'hashtags': [{'text': 'TrumpTreason', 'indices': [94, 107]}], 'symbols': [], 'user_mentions': [{'screen_name': 'GReschenthaler', 'name': 'Rep. Guy Reschenthaler', 'id': 4205133682, 'id_str': '4205133682', 'indices': [0, 15]}, {'screen_name': 'MikeKellyPA', 'name': 'Rep. Mike Kelly', 'id': 935368364, 'id_str': '935368364', 'indices': [16, 28]}, {'screen_name': 'RepScottPerry', 'name': 'RepScottPerry', 'id': 18773159, 'id_str': '18773159', 'indices': [29, 43]}], 'urls': [{'url': 'https://t.co/FMztti2Czt', 'expanded_url': 'https://www.nytimes.com/2021/01/23/us/politics/scott-perry-trump-justice-department-election.html?smid=tw-share', 'display_url': 'nytimes.com/2021/01/23/us/…', 'indices': [110, 133]}]}, 'metadata': {'iso_language_code': 'en', 'result_type': 'recent'}, 'source': '<a href=\"https://mobile.twitter.com\" rel=\"nofollow\">Twitter Web App</a>', 'in_reply_to_status_id': None, 'in_reply_to_status_id_str': None, 'in_reply_to_user_id': 4205133682, 'in_reply_to_user_id_str': '4205133682', 'in_reply_to_screen_name': 'GReschenthaler', 'user': {'id': 90523593, 'id_str': '90523593', 'name': 'Left Winger', 'screen_name': 'ksk1951', 'location': 'Pennsylvania, USA', 'description': 'Radical Progressive, climate change is REAL, science trumps ignorance, Animal Activist #Resist #TheResistance #ImpeachTrump Jim Morrison Lives!', 'url': None, 'entities': {'description': {'urls': []}}, 'protected': False, 'followers_count': 3195, 'friends_count': 4981, 'listed_count': 1, 'created_at': 'Tue Nov 17 00:31:18 +0000 2009', 'favourites_count': 10468, 'utc_offset': None, 'time_zone': None, 'geo_enabled': False, 'verified': False, 'statuses_count': 4964, 'lang': None, 'contributors_enabled': False, 'is_translator': False, 'is_translation_enabled': False, 'profile_background_color': 'C0DEED', 'profile_background_image_url': 'http://abs.twimg.com/images/themes/theme1/bg.png', 'profile_background_image_url_https': 'https://abs.twimg.com/images/themes/theme1/bg.png', 'profile_background_tile': False, 'profile_image_url': 'http://pbs.twimg.com/profile_images/774236012352507904/a_GLR5LY_normal.jpg', 'profile_image_url_https': 'https://pbs.twimg.com/profile_images/774236012352507904/a_GLR5LY_normal.jpg', 'profile_banner_url': 'https://pbs.twimg.com/profile_banners/90523593/1513252998', 'profile_link_color': '1DA1F2', 'profile_sidebar_border_color': 'C0DEED', 'profile_sidebar_fill_color': 'DDEEF6', 'profile_text_color': '333333', 'profile_use_background_image': True, 'has_extended_profile': False, 'default_profile': True, 'default_profile_image': False, 'following': False, 'follow_request_sent': False, 'notifications': False, 'translator_type': 'none'}, 'geo': None, 'coordinates': None, 'place': None, 'contributors': None, 'is_quote_status': False, 'retweet_count': 0, 'favorite_count': 0, 'favorited': False, 'retweeted': False, 'possibly_sensitive': False, 'lang': 'en'}, created_at=datetime.datetime(2021, 1, 25, 11, 25, 6), id=1353665193826545665, id_str='1353665193826545665', full_text='@GReschenthaler @mikekellyPA @repscottperry Joe Biden is the President. You are seditionists. #TrumpTreason \\n\\nhttps://t.co/FMztti2Czt', truncated=False, display_text_range=[0, 133], entities={'hashtags': [{'text': 'TrumpTreason', 'indices': [94, 107]}], 'symbols': [], 'user_mentions': [{'screen_name': 'GReschenthaler', 'name': 'Rep. Guy Reschenthaler', 'id': 4205133682, 'id_str': '4205133682', 'indices': [0, 15]}, {'screen_name': 'MikeKellyPA', 'name': 'Rep. Mike Kelly', 'id': 935368364, 'id_str': '935368364', 'indices': [16, 28]}, {'screen_name': 'RepScottPerry', 'name': 'RepScottPerry', 'id': 18773159, 'id_str': '18773159', 'indices': [29, 43]}], 'urls': [{'url': 'https://t.co/FMztti2Czt', 'expanded_url': 'https://www.nytimes.com/2021/01/23/us/politics/scott-perry-trump-justice-department-election.html?smid=tw-share', 'display_url': 'nytimes.com/2021/01/23/us/…', 'indices': [110, 133]}]}, metadata={'iso_language_code': 'en', 'result_type': 'recent'}, source='Twitter Web App', source_url='https://mobile.twitter.com', in_reply_to_status_id=None, in_reply_to_status_id_str=None, in_reply_to_user_id=4205133682, in_reply_to_user_id_str='4205133682', in_reply_to_screen_name='GReschenthaler', author=User(_api=<tweepy.api.API object at 0x0000022C324EECA0>, _json={'id': 90523593, 'id_str': '90523593', 'name': 'Left Winger', 'screen_name': 'ksk1951', 'location': 'Pennsylvania, USA', 'description': 'Radical Progressive, climate change is REAL, science trumps ignorance, Animal Activist #Resist #TheResistance #ImpeachTrump Jim Morrison Lives!', 'url': None, 'entities': {'description': {'urls': []}}, 'protected': False, 'followers_count': 3195, 'friends_count': 4981, 'listed_count': 1, 'created_at': 'Tue Nov 17 00:31:18 +0000 2009', 'favourites_count': 10468, 'utc_offset': None, 'time_zone': None, 'geo_enabled': False, 'verified': False, 'statuses_count': 4964, 'lang': None, 'contributors_enabled': False, 'is_translator': False, 'is_translation_enabled': False, 'profile_background_color': 'C0DEED', 'profile_background_image_url': 'http://abs.twimg.com/images/themes/theme1/bg.png', 'profile_background_image_url_https': 'https://abs.twimg.com/images/themes/theme1/bg.png', 'profile_background_tile': False, 'profile_image_url': 'http://pbs.twimg.com/profile_images/774236012352507904/a_GLR5LY_normal.jpg', 'profile_image_url_https': 'https://pbs.twimg.com/profile_images/774236012352507904/a_GLR5LY_normal.jpg', 'profile_banner_url': 'https://pbs.twimg.com/profile_banners/90523593/1513252998', 'profile_link_color': '1DA1F2', 'profile_sidebar_border_color': 'C0DEED', 'profile_sidebar_fill_color': 'DDEEF6', 'profile_text_color': '333333', 'profile_use_background_image': True, 'has_extended_profile': False, 'default_profile': True, 'default_profile_image': False, 'following': False, 'follow_request_sent': False, 'notifications': False, 'translator_type': 'none'}, id=90523593, id_str='90523593', name='Left Winger', screen_name='ksk1951', location='Pennsylvania, USA', description='Radical Progressive, climate change is REAL, science trumps ignorance, Animal Activist #Resist #TheResistance #ImpeachTrump Jim Morrison Lives!', url=None, entities={'description': {'urls': []}}, protected=False, followers_count=3195, friends_count=4981, listed_count=1, created_at=datetime.datetime(2009, 11, 17, 0, 31, 18), favourites_count=10468, utc_offset=None, time_zone=None, geo_enabled=False, verified=False, statuses_count=4964, lang=None, contributors_enabled=False, is_translator=False, is_translation_enabled=False, profile_background_color='C0DEED', profile_background_image_url='http://abs.twimg.com/images/themes/theme1/bg.png', profile_background_image_url_https='https://abs.twimg.com/images/themes/theme1/bg.png', profile_background_tile=False, profile_image_url='http://pbs.twimg.com/profile_images/774236012352507904/a_GLR5LY_normal.jpg', profile_image_url_https='https://pbs.twimg.com/profile_images/774236012352507904/a_GLR5LY_normal.jpg', profile_banner_url='https://pbs.twimg.com/profile_banners/90523593/1513252998', profile_link_color='1DA1F2', profile_sidebar_border_color='C0DEED', profile_sidebar_fill_color='DDEEF6', profile_text_color='333333', profile_use_background_image=True, has_extended_profile=False, default_profile=True, default_profile_image=False, following=False, follow_request_sent=False, notifications=False, translator_type='none'), user=User(_api=<tweepy.api.API object at 0x0000022C324EECA0>, _json={'id': 90523593, 'id_str': '90523593', 'name': 'Left Winger', 'screen_name': 'ksk1951', 'location': 'Pennsylvania, USA', 'description': 'Radical Progressive, climate change is REAL, science trumps ignorance, Animal Activist #Resist #TheResistance #ImpeachTrump Jim Morrison Lives!', 'url': None, 'entities': {'description': {'urls': []}}, 'protected': False, 'followers_count': 3195, 'friends_count': 4981, 'listed_count': 1, 'created_at': 'Tue Nov 17 00:31:18 +0000 2009', 'favourites_count': 10468, 'utc_offset': None, 'time_zone': None, 'geo_enabled': False, 'verified': False, 'statuses_count': 4964, 'lang': None, 'contributors_enabled': False, 'is_translator': False, 'is_translation_enabled': False, 'profile_background_color': 'C0DEED', 'profile_background_image_url': 'http://abs.twimg.com/images/themes/theme1/bg.png', 'profile_background_image_url_https': 'https://abs.twimg.com/images/themes/theme1/bg.png', 'profile_background_tile': False, 'profile_image_url': 'http://pbs.twimg.com/profile_images/774236012352507904/a_GLR5LY_normal.jpg', 'profile_image_url_https': 'https://pbs.twimg.com/profile_images/774236012352507904/a_GLR5LY_normal.jpg', 'profile_banner_url': 'https://pbs.twimg.com/profile_banners/90523593/1513252998', 'profile_link_color': '1DA1F2', 'profile_sidebar_border_color': 'C0DEED', 'profile_sidebar_fill_color': 'DDEEF6', 'profile_text_color': '333333', 'profile_use_background_image': True, 'has_extended_profile': False, 'default_profile': True, 'default_profile_image': False, 'following': False, 'follow_request_sent': False, 'notifications': False, 'translator_type': 'none'}, id=90523593, id_str='90523593', name='Left Winger', screen_name='ksk1951', location='Pennsylvania, USA', description='Radical Progressive, climate change is REAL, science trumps ignorance, Animal Activist #Resist #TheResistance #ImpeachTrump Jim Morrison Lives!', url=None, entities={'description': {'urls': []}}, protected=False, followers_count=3195, friends_count=4981, listed_count=1, created_at=datetime.datetime(2009, 11, 17, 0, 31, 18), favourites_count=10468, utc_offset=None, time_zone=None, geo_enabled=False, verified=False, statuses_count=4964, lang=None, contributors_enabled=False, is_translator=False, is_translation_enabled=False, profile_background_color='C0DEED', profile_background_image_url='http://abs.twimg.com/images/themes/theme1/bg.png', profile_background_image_url_https='https://abs.twimg.com/images/themes/theme1/bg.png', profile_background_tile=False, profile_image_url='http://pbs.twimg.com/profile_images/774236012352507904/a_GLR5LY_normal.jpg', profile_image_url_https='https://pbs.twimg.com/profile_images/774236012352507904/a_GLR5LY_normal.jpg', profile_banner_url='https://pbs.twimg.com/profile_banners/90523593/1513252998', profile_link_color='1DA1F2', profile_sidebar_border_color='C0DEED', profile_sidebar_fill_color='DDEEF6', profile_text_color='333333', profile_use_background_image=True, has_extended_profile=False, default_profile=True, default_profile_image=False, following=False, follow_request_sent=False, notifications=False, translator_type='none'), geo=None, coordinates=None, place=None, contributors=None, is_quote_status=False, retweet_count=0, favorite_count=0, favorited=False, retweeted=False, possibly_sensitive=False, lang='en')\n",
      "=================================================\n",
      "Status(_api=<tweepy.api.API object at 0x0000022C324EECA0>, _json={'created_at': 'Mon Jan 25 10:46:50 +0000 2021', 'id': 1353655560625819653, 'id_str': '1353655560625819653', 'full_text': '@squirrel_hockey Why the counties Joe Biden won represent 70% of U.S. GDP\\n\\nhttps://t.co/qe6gDU0AuH', 'truncated': False, 'display_text_range': [17, 98], 'entities': {'hashtags': [], 'symbols': [], 'user_mentions': [{'screen_name': 'squirrel_hockey', 'name': '🚨N0T M Y PED0 FILE🚨🇺🇸🇺🇸🇺🇸', 'id': 20348041, 'id_str': '20348041', 'indices': [0, 16]}], 'urls': [{'url': 'https://t.co/qe6gDU0AuH', 'expanded_url': 'https://fortune.com/2020/11/12/joe-biden-voters-election-results-by-county-us-gdp-democrats/amp/', 'display_url': 'fortune.com/2020/11/12/joe…', 'indices': [75, 98]}]}, 'metadata': {'iso_language_code': 'en', 'result_type': 'recent'}, 'source': '<a href=\"http://twitter.com/download/android\" rel=\"nofollow\">Twitter for Android</a>', 'in_reply_to_status_id': 1353654892468924417, 'in_reply_to_status_id_str': '1353654892468924417', 'in_reply_to_user_id': 1353586344597970949, 'in_reply_to_user_id_str': '1353586344597970949', 'in_reply_to_screen_name': 'Mojave1988', 'user': {'id': 1353586344597970949, 'id_str': '1353586344597970949', 'name': 'Mojave', 'screen_name': 'Mojave1988', 'location': '', 'description': '', 'url': None, 'entities': {'description': {'urls': []}}, 'protected': False, 'followers_count': 0, 'friends_count': 0, 'listed_count': 0, 'created_at': 'Mon Jan 25 06:12:06 +0000 2021', 'favourites_count': 3, 'utc_offset': None, 'time_zone': None, 'geo_enabled': False, 'verified': False, 'statuses_count': 30, 'lang': None, 'contributors_enabled': False, 'is_translator': False, 'is_translation_enabled': False, 'profile_background_color': 'F5F8FA', 'profile_background_image_url': None, 'profile_background_image_url_https': None, 'profile_background_tile': False, 'profile_image_url': 'http://abs.twimg.com/sticky/default_profile_images/default_profile_normal.png', 'profile_image_url_https': 'https://abs.twimg.com/sticky/default_profile_images/default_profile_normal.png', 'profile_link_color': '1DA1F2', 'profile_sidebar_border_color': 'C0DEED', 'profile_sidebar_fill_color': 'DDEEF6', 'profile_text_color': '333333', 'profile_use_background_image': True, 'has_extended_profile': True, 'default_profile': True, 'default_profile_image': True, 'following': False, 'follow_request_sent': False, 'notifications': False, 'translator_type': 'none'}, 'geo': None, 'coordinates': None, 'place': None, 'contributors': None, 'is_quote_status': False, 'retweet_count': 0, 'favorite_count': 0, 'favorited': False, 'retweeted': False, 'possibly_sensitive': False, 'lang': 'en'}, created_at=datetime.datetime(2021, 1, 25, 10, 46, 50), id=1353655560625819653, id_str='1353655560625819653', full_text='@squirrel_hockey Why the counties Joe Biden won represent 70% of U.S. GDP\\n\\nhttps://t.co/qe6gDU0AuH', truncated=False, display_text_range=[17, 98], entities={'hashtags': [], 'symbols': [], 'user_mentions': [{'screen_name': 'squirrel_hockey', 'name': '🚨N0T M Y PED0 FILE🚨🇺🇸🇺🇸🇺🇸', 'id': 20348041, 'id_str': '20348041', 'indices': [0, 16]}], 'urls': [{'url': 'https://t.co/qe6gDU0AuH', 'expanded_url': 'https://fortune.com/2020/11/12/joe-biden-voters-election-results-by-county-us-gdp-democrats/amp/', 'display_url': 'fortune.com/2020/11/12/joe…', 'indices': [75, 98]}]}, metadata={'iso_language_code': 'en', 'result_type': 'recent'}, source='Twitter for Android', source_url='http://twitter.com/download/android', in_reply_to_status_id=1353654892468924417, in_reply_to_status_id_str='1353654892468924417', in_reply_to_user_id=1353586344597970949, in_reply_to_user_id_str='1353586344597970949', in_reply_to_screen_name='Mojave1988', author=User(_api=<tweepy.api.API object at 0x0000022C324EECA0>, _json={'id': 1353586344597970949, 'id_str': '1353586344597970949', 'name': 'Mojave', 'screen_name': 'Mojave1988', 'location': '', 'description': '', 'url': None, 'entities': {'description': {'urls': []}}, 'protected': False, 'followers_count': 0, 'friends_count': 0, 'listed_count': 0, 'created_at': 'Mon Jan 25 06:12:06 +0000 2021', 'favourites_count': 3, 'utc_offset': None, 'time_zone': None, 'geo_enabled': False, 'verified': False, 'statuses_count': 30, 'lang': None, 'contributors_enabled': False, 'is_translator': False, 'is_translation_enabled': False, 'profile_background_color': 'F5F8FA', 'profile_background_image_url': None, 'profile_background_image_url_https': None, 'profile_background_tile': False, 'profile_image_url': 'http://abs.twimg.com/sticky/default_profile_images/default_profile_normal.png', 'profile_image_url_https': 'https://abs.twimg.com/sticky/default_profile_images/default_profile_normal.png', 'profile_link_color': '1DA1F2', 'profile_sidebar_border_color': 'C0DEED', 'profile_sidebar_fill_color': 'DDEEF6', 'profile_text_color': '333333', 'profile_use_background_image': True, 'has_extended_profile': True, 'default_profile': True, 'default_profile_image': True, 'following': False, 'follow_request_sent': False, 'notifications': False, 'translator_type': 'none'}, id=1353586344597970949, id_str='1353586344597970949', name='Mojave', screen_name='Mojave1988', location='', description='', url=None, entities={'description': {'urls': []}}, protected=False, followers_count=0, friends_count=0, listed_count=0, created_at=datetime.datetime(2021, 1, 25, 6, 12, 6), favourites_count=3, utc_offset=None, time_zone=None, geo_enabled=False, verified=False, statuses_count=30, lang=None, contributors_enabled=False, is_translator=False, is_translation_enabled=False, profile_background_color='F5F8FA', profile_background_image_url=None, profile_background_image_url_https=None, profile_background_tile=False, profile_image_url='http://abs.twimg.com/sticky/default_profile_images/default_profile_normal.png', profile_image_url_https='https://abs.twimg.com/sticky/default_profile_images/default_profile_normal.png', profile_link_color='1DA1F2', profile_sidebar_border_color='C0DEED', profile_sidebar_fill_color='DDEEF6', profile_text_color='333333', profile_use_background_image=True, has_extended_profile=True, default_profile=True, default_profile_image=True, following=False, follow_request_sent=False, notifications=False, translator_type='none'), user=User(_api=<tweepy.api.API object at 0x0000022C324EECA0>, _json={'id': 1353586344597970949, 'id_str': '1353586344597970949', 'name': 'Mojave', 'screen_name': 'Mojave1988', 'location': '', 'description': '', 'url': None, 'entities': {'description': {'urls': []}}, 'protected': False, 'followers_count': 0, 'friends_count': 0, 'listed_count': 0, 'created_at': 'Mon Jan 25 06:12:06 +0000 2021', 'favourites_count': 3, 'utc_offset': None, 'time_zone': None, 'geo_enabled': False, 'verified': False, 'statuses_count': 30, 'lang': None, 'contributors_enabled': False, 'is_translator': False, 'is_translation_enabled': False, 'profile_background_color': 'F5F8FA', 'profile_background_image_url': None, 'profile_background_image_url_https': None, 'profile_background_tile': False, 'profile_image_url': 'http://abs.twimg.com/sticky/default_profile_images/default_profile_normal.png', 'profile_image_url_https': 'https://abs.twimg.com/sticky/default_profile_images/default_profile_normal.png', 'profile_link_color': '1DA1F2', 'profile_sidebar_border_color': 'C0DEED', 'profile_sidebar_fill_color': 'DDEEF6', 'profile_text_color': '333333', 'profile_use_background_image': True, 'has_extended_profile': True, 'default_profile': True, 'default_profile_image': True, 'following': False, 'follow_request_sent': False, 'notifications': False, 'translator_type': 'none'}, id=1353586344597970949, id_str='1353586344597970949', name='Mojave', screen_name='Mojave1988', location='', description='', url=None, entities={'description': {'urls': []}}, protected=False, followers_count=0, friends_count=0, listed_count=0, created_at=datetime.datetime(2021, 1, 25, 6, 12, 6), favourites_count=3, utc_offset=None, time_zone=None, geo_enabled=False, verified=False, statuses_count=30, lang=None, contributors_enabled=False, is_translator=False, is_translation_enabled=False, profile_background_color='F5F8FA', profile_background_image_url=None, profile_background_image_url_https=None, profile_background_tile=False, profile_image_url='http://abs.twimg.com/sticky/default_profile_images/default_profile_normal.png', profile_image_url_https='https://abs.twimg.com/sticky/default_profile_images/default_profile_normal.png', profile_link_color='1DA1F2', profile_sidebar_border_color='C0DEED', profile_sidebar_fill_color='DDEEF6', profile_text_color='333333', profile_use_background_image=True, has_extended_profile=True, default_profile=True, default_profile_image=True, following=False, follow_request_sent=False, notifications=False, translator_type='none'), geo=None, coordinates=None, place=None, contributors=None, is_quote_status=False, retweet_count=0, favorite_count=0, favorited=False, retweeted=False, possibly_sensitive=False, lang='en')\n",
      "=================================================\n",
      "Status(_api=<tweepy.api.API object at 0x0000022C324EECA0>, _json={'created_at': 'Mon Jan 25 10:26:08 +0000 2021', 'id': 1353650352923373568, 'id_str': '1353650352923373568', 'full_text': 'A huge coalition of activist groups had been working together since the spring to make sure that Joe Biden won and that the “election stayed won” amid Donald Trump’s subterfuge.\\n\\nhttps://t.co/x0mJE8X6Uk', 'truncated': False, 'display_text_range': [0, 202], 'entities': {'hashtags': [], 'symbols': [], 'user_mentions': [], 'urls': [{'url': 'https://t.co/x0mJE8X6Uk', 'expanded_url': 'https://www.nytimes.com/2021/01/24/us/politics/democrats-trump-election-plan.html?smid=tw-share', 'display_url': 'nytimes.com/2021/01/24/us/…', 'indices': [179, 202]}]}, 'metadata': {'iso_language_code': 'en', 'result_type': 'recent'}, 'source': '<a href=\"https://mobile.twitter.com\" rel=\"nofollow\">Twitter Web App</a>', 'in_reply_to_status_id': None, 'in_reply_to_status_id_str': None, 'in_reply_to_user_id': None, 'in_reply_to_user_id_str': None, 'in_reply_to_screen_name': None, 'user': {'id': 396938495, 'id_str': '396938495', 'name': 'Victor Narro', 'screen_name': 'NarroVictor', 'location': 'Los Angeles', 'description': 'Immigrant Rights & Labor Activist/Movement Chaplain/Professor at UCLA. Follower of the spirituality of St. Francis of Assisi (he/him) Tweets are my own.', 'url': 'https://t.co/B3X8z7DG5R', 'entities': {'url': {'urls': [{'url': 'https://t.co/B3X8z7DG5R', 'expanded_url': 'https://www.labor.ucla.edu/victor-narro/', 'display_url': 'labor.ucla.edu/victor-narro/', 'indices': [0, 23]}]}, 'description': {'urls': []}}, 'protected': False, 'followers_count': 4024, 'friends_count': 1570, 'listed_count': 87, 'created_at': 'Mon Oct 24 00:31:47 +0000 2011', 'favourites_count': 49867, 'utc_offset': None, 'time_zone': None, 'geo_enabled': False, 'verified': False, 'statuses_count': 48589, 'lang': None, 'contributors_enabled': False, 'is_translator': False, 'is_translation_enabled': False, 'profile_background_color': 'C0DEED', 'profile_background_image_url': 'http://abs.twimg.com/images/themes/theme1/bg.png', 'profile_background_image_url_https': 'https://abs.twimg.com/images/themes/theme1/bg.png', 'profile_background_tile': False, 'profile_image_url': 'http://pbs.twimg.com/profile_images/1353284242541711361/WUCGEs4D_normal.jpg', 'profile_image_url_https': 'https://pbs.twimg.com/profile_images/1353284242541711361/WUCGEs4D_normal.jpg', 'profile_banner_url': 'https://pbs.twimg.com/profile_banners/396938495/1557204892', 'profile_link_color': '1DA1F2', 'profile_sidebar_border_color': 'C0DEED', 'profile_sidebar_fill_color': 'DDEEF6', 'profile_text_color': '333333', 'profile_use_background_image': True, 'has_extended_profile': False, 'default_profile': True, 'default_profile_image': False, 'following': False, 'follow_request_sent': False, 'notifications': False, 'translator_type': 'none'}, 'geo': None, 'coordinates': None, 'place': None, 'contributors': None, 'is_quote_status': False, 'retweet_count': 0, 'favorite_count': 0, 'favorited': False, 'retweeted': False, 'possibly_sensitive': False, 'lang': 'en'}, created_at=datetime.datetime(2021, 1, 25, 10, 26, 8), id=1353650352923373568, id_str='1353650352923373568', full_text='A huge coalition of activist groups had been working together since the spring to make sure that Joe Biden won and that the “election stayed won” amid Donald Trump’s subterfuge.\\n\\nhttps://t.co/x0mJE8X6Uk', truncated=False, display_text_range=[0, 202], entities={'hashtags': [], 'symbols': [], 'user_mentions': [], 'urls': [{'url': 'https://t.co/x0mJE8X6Uk', 'expanded_url': 'https://www.nytimes.com/2021/01/24/us/politics/democrats-trump-election-plan.html?smid=tw-share', 'display_url': 'nytimes.com/2021/01/24/us/…', 'indices': [179, 202]}]}, metadata={'iso_language_code': 'en', 'result_type': 'recent'}, source='Twitter Web App', source_url='https://mobile.twitter.com', in_reply_to_status_id=None, in_reply_to_status_id_str=None, in_reply_to_user_id=None, in_reply_to_user_id_str=None, in_reply_to_screen_name=None, author=User(_api=<tweepy.api.API object at 0x0000022C324EECA0>, _json={'id': 396938495, 'id_str': '396938495', 'name': 'Victor Narro', 'screen_name': 'NarroVictor', 'location': 'Los Angeles', 'description': 'Immigrant Rights & Labor Activist/Movement Chaplain/Professor at UCLA. Follower of the spirituality of St. Francis of Assisi (he/him) Tweets are my own.', 'url': 'https://t.co/B3X8z7DG5R', 'entities': {'url': {'urls': [{'url': 'https://t.co/B3X8z7DG5R', 'expanded_url': 'https://www.labor.ucla.edu/victor-narro/', 'display_url': 'labor.ucla.edu/victor-narro/', 'indices': [0, 23]}]}, 'description': {'urls': []}}, 'protected': False, 'followers_count': 4024, 'friends_count': 1570, 'listed_count': 87, 'created_at': 'Mon Oct 24 00:31:47 +0000 2011', 'favourites_count': 49867, 'utc_offset': None, 'time_zone': None, 'geo_enabled': False, 'verified': False, 'statuses_count': 48589, 'lang': None, 'contributors_enabled': False, 'is_translator': False, 'is_translation_enabled': False, 'profile_background_color': 'C0DEED', 'profile_background_image_url': 'http://abs.twimg.com/images/themes/theme1/bg.png', 'profile_background_image_url_https': 'https://abs.twimg.com/images/themes/theme1/bg.png', 'profile_background_tile': False, 'profile_image_url': 'http://pbs.twimg.com/profile_images/1353284242541711361/WUCGEs4D_normal.jpg', 'profile_image_url_https': 'https://pbs.twimg.com/profile_images/1353284242541711361/WUCGEs4D_normal.jpg', 'profile_banner_url': 'https://pbs.twimg.com/profile_banners/396938495/1557204892', 'profile_link_color': '1DA1F2', 'profile_sidebar_border_color': 'C0DEED', 'profile_sidebar_fill_color': 'DDEEF6', 'profile_text_color': '333333', 'profile_use_background_image': True, 'has_extended_profile': False, 'default_profile': True, 'default_profile_image': False, 'following': False, 'follow_request_sent': False, 'notifications': False, 'translator_type': 'none'}, id=396938495, id_str='396938495', name='Victor Narro', screen_name='NarroVictor', location='Los Angeles', description='Immigrant Rights & Labor Activist/Movement Chaplain/Professor at UCLA. Follower of the spirituality of St. Francis of Assisi (he/him) Tweets are my own.', url='https://t.co/B3X8z7DG5R', entities={'url': {'urls': [{'url': 'https://t.co/B3X8z7DG5R', 'expanded_url': 'https://www.labor.ucla.edu/victor-narro/', 'display_url': 'labor.ucla.edu/victor-narro/', 'indices': [0, 23]}]}, 'description': {'urls': []}}, protected=False, followers_count=4024, friends_count=1570, listed_count=87, created_at=datetime.datetime(2011, 10, 24, 0, 31, 47), favourites_count=49867, utc_offset=None, time_zone=None, geo_enabled=False, verified=False, statuses_count=48589, lang=None, contributors_enabled=False, is_translator=False, is_translation_enabled=False, profile_background_color='C0DEED', profile_background_image_url='http://abs.twimg.com/images/themes/theme1/bg.png', profile_background_image_url_https='https://abs.twimg.com/images/themes/theme1/bg.png', profile_background_tile=False, profile_image_url='http://pbs.twimg.com/profile_images/1353284242541711361/WUCGEs4D_normal.jpg', profile_image_url_https='https://pbs.twimg.com/profile_images/1353284242541711361/WUCGEs4D_normal.jpg', profile_banner_url='https://pbs.twimg.com/profile_banners/396938495/1557204892', profile_link_color='1DA1F2', profile_sidebar_border_color='C0DEED', profile_sidebar_fill_color='DDEEF6', profile_text_color='333333', profile_use_background_image=True, has_extended_profile=False, default_profile=True, default_profile_image=False, following=False, follow_request_sent=False, notifications=False, translator_type='none'), user=User(_api=<tweepy.api.API object at 0x0000022C324EECA0>, _json={'id': 396938495, 'id_str': '396938495', 'name': 'Victor Narro', 'screen_name': 'NarroVictor', 'location': 'Los Angeles', 'description': 'Immigrant Rights & Labor Activist/Movement Chaplain/Professor at UCLA. Follower of the spirituality of St. Francis of Assisi (he/him) Tweets are my own.', 'url': 'https://t.co/B3X8z7DG5R', 'entities': {'url': {'urls': [{'url': 'https://t.co/B3X8z7DG5R', 'expanded_url': 'https://www.labor.ucla.edu/victor-narro/', 'display_url': 'labor.ucla.edu/victor-narro/', 'indices': [0, 23]}]}, 'description': {'urls': []}}, 'protected': False, 'followers_count': 4024, 'friends_count': 1570, 'listed_count': 87, 'created_at': 'Mon Oct 24 00:31:47 +0000 2011', 'favourites_count': 49867, 'utc_offset': None, 'time_zone': None, 'geo_enabled': False, 'verified': False, 'statuses_count': 48589, 'lang': None, 'contributors_enabled': False, 'is_translator': False, 'is_translation_enabled': False, 'profile_background_color': 'C0DEED', 'profile_background_image_url': 'http://abs.twimg.com/images/themes/theme1/bg.png', 'profile_background_image_url_https': 'https://abs.twimg.com/images/themes/theme1/bg.png', 'profile_background_tile': False, 'profile_image_url': 'http://pbs.twimg.com/profile_images/1353284242541711361/WUCGEs4D_normal.jpg', 'profile_image_url_https': 'https://pbs.twimg.com/profile_images/1353284242541711361/WUCGEs4D_normal.jpg', 'profile_banner_url': 'https://pbs.twimg.com/profile_banners/396938495/1557204892', 'profile_link_color': '1DA1F2', 'profile_sidebar_border_color': 'C0DEED', 'profile_sidebar_fill_color': 'DDEEF6', 'profile_text_color': '333333', 'profile_use_background_image': True, 'has_extended_profile': False, 'default_profile': True, 'default_profile_image': False, 'following': False, 'follow_request_sent': False, 'notifications': False, 'translator_type': 'none'}, id=396938495, id_str='396938495', name='Victor Narro', screen_name='NarroVictor', location='Los Angeles', description='Immigrant Rights & Labor Activist/Movement Chaplain/Professor at UCLA. Follower of the spirituality of St. Francis of Assisi (he/him) Tweets are my own.', url='https://t.co/B3X8z7DG5R', entities={'url': {'urls': [{'url': 'https://t.co/B3X8z7DG5R', 'expanded_url': 'https://www.labor.ucla.edu/victor-narro/', 'display_url': 'labor.ucla.edu/victor-narro/', 'indices': [0, 23]}]}, 'description': {'urls': []}}, protected=False, followers_count=4024, friends_count=1570, listed_count=87, created_at=datetime.datetime(2011, 10, 24, 0, 31, 47), favourites_count=49867, utc_offset=None, time_zone=None, geo_enabled=False, verified=False, statuses_count=48589, lang=None, contributors_enabled=False, is_translator=False, is_translation_enabled=False, profile_background_color='C0DEED', profile_background_image_url='http://abs.twimg.com/images/themes/theme1/bg.png', profile_background_image_url_https='https://abs.twimg.com/images/themes/theme1/bg.png', profile_background_tile=False, profile_image_url='http://pbs.twimg.com/profile_images/1353284242541711361/WUCGEs4D_normal.jpg', profile_image_url_https='https://pbs.twimg.com/profile_images/1353284242541711361/WUCGEs4D_normal.jpg', profile_banner_url='https://pbs.twimg.com/profile_banners/396938495/1557204892', profile_link_color='1DA1F2', profile_sidebar_border_color='C0DEED', profile_sidebar_fill_color='DDEEF6', profile_text_color='333333', profile_use_background_image=True, has_extended_profile=False, default_profile=True, default_profile_image=False, following=False, follow_request_sent=False, notifications=False, translator_type='none'), geo=None, coordinates=None, place=None, contributors=None, is_quote_status=False, retweet_count=0, favorite_count=0, favorited=False, retweeted=False, possibly_sensitive=False, lang='en')\n",
      "=================================================\n",
      "Status(_api=<tweepy.api.API object at 0x0000022C324EECA0>, _json={'created_at': 'Mon Jan 25 10:04:04 +0000 2021', 'id': 1353644799941890050, 'id_str': '1353644799941890050', 'full_text': 'A huge coalition of activist groups had been working together since the spring to make sure that Joe Biden won and that the “election stayed won” amid Donald Trump’s subterfuge. https://t.co/Wdv2SlSjbf', 'truncated': False, 'display_text_range': [0, 201], 'entities': {'hashtags': [], 'symbols': [], 'user_mentions': [], 'urls': [{'url': 'https://t.co/Wdv2SlSjbf', 'expanded_url': 'https://nyti.ms/2KMRNkg', 'display_url': 'nyti.ms/2KMRNkg', 'indices': [178, 201]}]}, 'metadata': {'iso_language_code': 'en', 'result_type': 'recent'}, 'source': '<a href=\"http://www.socialflow.com\" rel=\"nofollow\">SocialFlow</a>', 'in_reply_to_status_id': None, 'in_reply_to_status_id_str': None, 'in_reply_to_user_id': None, 'in_reply_to_user_id_str': None, 'in_reply_to_screen_name': None, 'user': {'id': 1767741, 'id_str': '1767741', 'name': 'NYT National News', 'screen_name': 'NYTNational', 'location': 'From Sea to Shining Sea', 'description': 'Breaking news and features from the National Desk of The New York Times. Follow our correspondents here: https://t.co/803T8LvEiO', 'url': 'https://t.co/qHof5XpNPj', 'entities': {'url': {'urls': [{'url': 'https://t.co/qHof5XpNPj', 'expanded_url': 'http://nytimes.com/national', 'display_url': 'nytimes.com/national', 'indices': [0, 23]}]}, 'description': {'urls': [{'url': 'https://t.co/803T8LvEiO', 'expanded_url': 'http://bit.ly/2n7nSmV', 'display_url': 'bit.ly/2n7nSmV', 'indices': [105, 128]}]}}, 'protected': False, 'followers_count': 84561, 'friends_count': 726, 'listed_count': 2838, 'created_at': 'Wed Mar 21 16:48:44 +0000 2007', 'favourites_count': 1978, 'utc_offset': None, 'time_zone': None, 'geo_enabled': True, 'verified': True, 'statuses_count': 211584, 'lang': None, 'contributors_enabled': False, 'is_translator': False, 'is_translation_enabled': False, 'profile_background_color': 'FFFFFF', 'profile_background_image_url': 'http://abs.twimg.com/images/themes/theme1/bg.png', 'profile_background_image_url_https': 'https://abs.twimg.com/images/themes/theme1/bg.png', 'profile_background_tile': True, 'profile_image_url': 'http://pbs.twimg.com/profile_images/963563046009319424/OsxQ6vor_normal.jpg', 'profile_image_url_https': 'https://pbs.twimg.com/profile_images/963563046009319424/OsxQ6vor_normal.jpg', 'profile_banner_url': 'https://pbs.twimg.com/profile_banners/1767741/1559675772', 'profile_link_color': '004276', 'profile_sidebar_border_color': '323232', 'profile_sidebar_fill_color': 'E7EFF8', 'profile_text_color': '000000', 'profile_use_background_image': True, 'has_extended_profile': False, 'default_profile': False, 'default_profile_image': False, 'following': False, 'follow_request_sent': False, 'notifications': False, 'translator_type': 'none'}, 'geo': None, 'coordinates': None, 'place': None, 'contributors': None, 'is_quote_status': False, 'retweet_count': 0, 'favorite_count': 0, 'favorited': False, 'retweeted': False, 'possibly_sensitive': False, 'lang': 'en'}, created_at=datetime.datetime(2021, 1, 25, 10, 4, 4), id=1353644799941890050, id_str='1353644799941890050', full_text='A huge coalition of activist groups had been working together since the spring to make sure that Joe Biden won and that the “election stayed won” amid Donald Trump’s subterfuge. https://t.co/Wdv2SlSjbf', truncated=False, display_text_range=[0, 201], entities={'hashtags': [], 'symbols': [], 'user_mentions': [], 'urls': [{'url': 'https://t.co/Wdv2SlSjbf', 'expanded_url': 'https://nyti.ms/2KMRNkg', 'display_url': 'nyti.ms/2KMRNkg', 'indices': [178, 201]}]}, metadata={'iso_language_code': 'en', 'result_type': 'recent'}, source='SocialFlow', source_url='http://www.socialflow.com', in_reply_to_status_id=None, in_reply_to_status_id_str=None, in_reply_to_user_id=None, in_reply_to_user_id_str=None, in_reply_to_screen_name=None, author=User(_api=<tweepy.api.API object at 0x0000022C324EECA0>, _json={'id': 1767741, 'id_str': '1767741', 'name': 'NYT National News', 'screen_name': 'NYTNational', 'location': 'From Sea to Shining Sea', 'description': 'Breaking news and features from the National Desk of The New York Times. Follow our correspondents here: https://t.co/803T8LvEiO', 'url': 'https://t.co/qHof5XpNPj', 'entities': {'url': {'urls': [{'url': 'https://t.co/qHof5XpNPj', 'expanded_url': 'http://nytimes.com/national', 'display_url': 'nytimes.com/national', 'indices': [0, 23]}]}, 'description': {'urls': [{'url': 'https://t.co/803T8LvEiO', 'expanded_url': 'http://bit.ly/2n7nSmV', 'display_url': 'bit.ly/2n7nSmV', 'indices': [105, 128]}]}}, 'protected': False, 'followers_count': 84561, 'friends_count': 726, 'listed_count': 2838, 'created_at': 'Wed Mar 21 16:48:44 +0000 2007', 'favourites_count': 1978, 'utc_offset': None, 'time_zone': None, 'geo_enabled': True, 'verified': True, 'statuses_count': 211584, 'lang': None, 'contributors_enabled': False, 'is_translator': False, 'is_translation_enabled': False, 'profile_background_color': 'FFFFFF', 'profile_background_image_url': 'http://abs.twimg.com/images/themes/theme1/bg.png', 'profile_background_image_url_https': 'https://abs.twimg.com/images/themes/theme1/bg.png', 'profile_background_tile': True, 'profile_image_url': 'http://pbs.twimg.com/profile_images/963563046009319424/OsxQ6vor_normal.jpg', 'profile_image_url_https': 'https://pbs.twimg.com/profile_images/963563046009319424/OsxQ6vor_normal.jpg', 'profile_banner_url': 'https://pbs.twimg.com/profile_banners/1767741/1559675772', 'profile_link_color': '004276', 'profile_sidebar_border_color': '323232', 'profile_sidebar_fill_color': 'E7EFF8', 'profile_text_color': '000000', 'profile_use_background_image': True, 'has_extended_profile': False, 'default_profile': False, 'default_profile_image': False, 'following': False, 'follow_request_sent': False, 'notifications': False, 'translator_type': 'none'}, id=1767741, id_str='1767741', name='NYT National News', screen_name='NYTNational', location='From Sea to Shining Sea', description='Breaking news and features from the National Desk of The New York Times. Follow our correspondents here: https://t.co/803T8LvEiO', url='https://t.co/qHof5XpNPj', entities={'url': {'urls': [{'url': 'https://t.co/qHof5XpNPj', 'expanded_url': 'http://nytimes.com/national', 'display_url': 'nytimes.com/national', 'indices': [0, 23]}]}, 'description': {'urls': [{'url': 'https://t.co/803T8LvEiO', 'expanded_url': 'http://bit.ly/2n7nSmV', 'display_url': 'bit.ly/2n7nSmV', 'indices': [105, 128]}]}}, protected=False, followers_count=84561, friends_count=726, listed_count=2838, created_at=datetime.datetime(2007, 3, 21, 16, 48, 44), favourites_count=1978, utc_offset=None, time_zone=None, geo_enabled=True, verified=True, statuses_count=211584, lang=None, contributors_enabled=False, is_translator=False, is_translation_enabled=False, profile_background_color='FFFFFF', profile_background_image_url='http://abs.twimg.com/images/themes/theme1/bg.png', profile_background_image_url_https='https://abs.twimg.com/images/themes/theme1/bg.png', profile_background_tile=True, profile_image_url='http://pbs.twimg.com/profile_images/963563046009319424/OsxQ6vor_normal.jpg', profile_image_url_https='https://pbs.twimg.com/profile_images/963563046009319424/OsxQ6vor_normal.jpg', profile_banner_url='https://pbs.twimg.com/profile_banners/1767741/1559675772', profile_link_color='004276', profile_sidebar_border_color='323232', profile_sidebar_fill_color='E7EFF8', profile_text_color='000000', profile_use_background_image=True, has_extended_profile=False, default_profile=False, default_profile_image=False, following=False, follow_request_sent=False, notifications=False, translator_type='none'), user=User(_api=<tweepy.api.API object at 0x0000022C324EECA0>, _json={'id': 1767741, 'id_str': '1767741', 'name': 'NYT National News', 'screen_name': 'NYTNational', 'location': 'From Sea to Shining Sea', 'description': 'Breaking news and features from the National Desk of The New York Times. Follow our correspondents here: https://t.co/803T8LvEiO', 'url': 'https://t.co/qHof5XpNPj', 'entities': {'url': {'urls': [{'url': 'https://t.co/qHof5XpNPj', 'expanded_url': 'http://nytimes.com/national', 'display_url': 'nytimes.com/national', 'indices': [0, 23]}]}, 'description': {'urls': [{'url': 'https://t.co/803T8LvEiO', 'expanded_url': 'http://bit.ly/2n7nSmV', 'display_url': 'bit.ly/2n7nSmV', 'indices': [105, 128]}]}}, 'protected': False, 'followers_count': 84561, 'friends_count': 726, 'listed_count': 2838, 'created_at': 'Wed Mar 21 16:48:44 +0000 2007', 'favourites_count': 1978, 'utc_offset': None, 'time_zone': None, 'geo_enabled': True, 'verified': True, 'statuses_count': 211584, 'lang': None, 'contributors_enabled': False, 'is_translator': False, 'is_translation_enabled': False, 'profile_background_color': 'FFFFFF', 'profile_background_image_url': 'http://abs.twimg.com/images/themes/theme1/bg.png', 'profile_background_image_url_https': 'https://abs.twimg.com/images/themes/theme1/bg.png', 'profile_background_tile': True, 'profile_image_url': 'http://pbs.twimg.com/profile_images/963563046009319424/OsxQ6vor_normal.jpg', 'profile_image_url_https': 'https://pbs.twimg.com/profile_images/963563046009319424/OsxQ6vor_normal.jpg', 'profile_banner_url': 'https://pbs.twimg.com/profile_banners/1767741/1559675772', 'profile_link_color': '004276', 'profile_sidebar_border_color': '323232', 'profile_sidebar_fill_color': 'E7EFF8', 'profile_text_color': '000000', 'profile_use_background_image': True, 'has_extended_profile': False, 'default_profile': False, 'default_profile_image': False, 'following': False, 'follow_request_sent': False, 'notifications': False, 'translator_type': 'none'}, id=1767741, id_str='1767741', name='NYT National News', screen_name='NYTNational', location='From Sea to Shining Sea', description='Breaking news and features from the National Desk of The New York Times. Follow our correspondents here: https://t.co/803T8LvEiO', url='https://t.co/qHof5XpNPj', entities={'url': {'urls': [{'url': 'https://t.co/qHof5XpNPj', 'expanded_url': 'http://nytimes.com/national', 'display_url': 'nytimes.com/national', 'indices': [0, 23]}]}, 'description': {'urls': [{'url': 'https://t.co/803T8LvEiO', 'expanded_url': 'http://bit.ly/2n7nSmV', 'display_url': 'bit.ly/2n7nSmV', 'indices': [105, 128]}]}}, protected=False, followers_count=84561, friends_count=726, listed_count=2838, created_at=datetime.datetime(2007, 3, 21, 16, 48, 44), favourites_count=1978, utc_offset=None, time_zone=None, geo_enabled=True, verified=True, statuses_count=211584, lang=None, contributors_enabled=False, is_translator=False, is_translation_enabled=False, profile_background_color='FFFFFF', profile_background_image_url='http://abs.twimg.com/images/themes/theme1/bg.png', profile_background_image_url_https='https://abs.twimg.com/images/themes/theme1/bg.png', profile_background_tile=True, profile_image_url='http://pbs.twimg.com/profile_images/963563046009319424/OsxQ6vor_normal.jpg', profile_image_url_https='https://pbs.twimg.com/profile_images/963563046009319424/OsxQ6vor_normal.jpg', profile_banner_url='https://pbs.twimg.com/profile_banners/1767741/1559675772', profile_link_color='004276', profile_sidebar_border_color='323232', profile_sidebar_fill_color='E7EFF8', profile_text_color='000000', profile_use_background_image=True, has_extended_profile=False, default_profile=False, default_profile_image=False, following=False, follow_request_sent=False, notifications=False, translator_type='none'), geo=None, coordinates=None, place=None, contributors=None, is_quote_status=False, retweet_count=0, favorite_count=0, favorited=False, retweeted=False, possibly_sensitive=False, lang='en')\n",
      "=================================================\n",
      "Status(_api=<tweepy.api.API object at 0x0000022C324EECA0>, _json={'created_at': 'Mon Jan 25 09:57:03 +0000 2021', 'id': 1353643034710171648, 'id_str': '1353643034710171648', 'full_text': '@Beardsofsparta1 @mandraquex3000 @MSNBC I’ll repeat: Trump supporters committed a deadly terrorist attack on the US capitol in hopes of over turning an election that hurt their little feelings. \\n\\nSaying there are far left terrorists doesn’t defend Trump. We voted for a centrist in Joe Biden to end your folks’ insanity', 'truncated': False, 'display_text_range': [40, 319], 'entities': {'hashtags': [], 'symbols': [], 'user_mentions': [{'screen_name': 'Beardsofsparta1', 'name': 'NightmareOracle', 'id': 1268067909445783552, 'id_str': '1268067909445783552', 'indices': [0, 16]}, {'screen_name': 'mandraquex3000', 'name': 'Michael 🇺🇸', 'id': 1574622463, 'id_str': '1574622463', 'indices': [17, 32]}, {'screen_name': 'MSNBC', 'name': 'MSNBC', 'id': 2836421, 'id_str': '2836421', 'indices': [33, 39]}], 'urls': []}, 'metadata': {'iso_language_code': 'en', 'result_type': 'recent'}, 'source': '<a href=\"http://twitter.com/download/iphone\" rel=\"nofollow\">Twitter for iPhone</a>', 'in_reply_to_status_id': 1353642550352105472, 'in_reply_to_status_id_str': '1353642550352105472', 'in_reply_to_user_id': 1268067909445783552, 'in_reply_to_user_id_str': '1268067909445783552', 'in_reply_to_screen_name': 'Beardsofsparta1', 'user': {'id': 1306787784913350663, 'id_str': '1306787784913350663', 'name': 'The Centrist', 'screen_name': 'Centrists2Cents', 'location': '', 'description': 'Joe Biden is our President! Mission accomplished', 'url': None, 'entities': {'description': {'urls': []}}, 'protected': False, 'followers_count': 51, 'friends_count': 200, 'listed_count': 1, 'created_at': 'Fri Sep 18 02:51:14 +0000 2020', 'favourites_count': 8141, 'utc_offset': None, 'time_zone': None, 'geo_enabled': True, 'verified': False, 'statuses_count': 11365, 'lang': None, 'contributors_enabled': False, 'is_translator': False, 'is_translation_enabled': False, 'profile_background_color': 'F5F8FA', 'profile_background_image_url': None, 'profile_background_image_url_https': None, 'profile_background_tile': False, 'profile_image_url': 'http://pbs.twimg.com/profile_images/1306788195045117952/cek0_tgx_normal.jpg', 'profile_image_url_https': 'https://pbs.twimg.com/profile_images/1306788195045117952/cek0_tgx_normal.jpg', 'profile_link_color': '1DA1F2', 'profile_sidebar_border_color': 'C0DEED', 'profile_sidebar_fill_color': 'DDEEF6', 'profile_text_color': '333333', 'profile_use_background_image': True, 'has_extended_profile': True, 'default_profile': True, 'default_profile_image': False, 'following': False, 'follow_request_sent': False, 'notifications': False, 'translator_type': 'none'}, 'geo': None, 'coordinates': None, 'place': None, 'contributors': None, 'is_quote_status': False, 'retweet_count': 0, 'favorite_count': 0, 'favorited': False, 'retweeted': False, 'lang': 'en'}, created_at=datetime.datetime(2021, 1, 25, 9, 57, 3), id=1353643034710171648, id_str='1353643034710171648', full_text='@Beardsofsparta1 @mandraquex3000 @MSNBC I’ll repeat: Trump supporters committed a deadly terrorist attack on the US capitol in hopes of over turning an election that hurt their little feelings. \\n\\nSaying there are far left terrorists doesn’t defend Trump. We voted for a centrist in Joe Biden to end your folks’ insanity', truncated=False, display_text_range=[40, 319], entities={'hashtags': [], 'symbols': [], 'user_mentions': [{'screen_name': 'Beardsofsparta1', 'name': 'NightmareOracle', 'id': 1268067909445783552, 'id_str': '1268067909445783552', 'indices': [0, 16]}, {'screen_name': 'mandraquex3000', 'name': 'Michael 🇺🇸', 'id': 1574622463, 'id_str': '1574622463', 'indices': [17, 32]}, {'screen_name': 'MSNBC', 'name': 'MSNBC', 'id': 2836421, 'id_str': '2836421', 'indices': [33, 39]}], 'urls': []}, metadata={'iso_language_code': 'en', 'result_type': 'recent'}, source='Twitter for iPhone', source_url='http://twitter.com/download/iphone', in_reply_to_status_id=1353642550352105472, in_reply_to_status_id_str='1353642550352105472', in_reply_to_user_id=1268067909445783552, in_reply_to_user_id_str='1268067909445783552', in_reply_to_screen_name='Beardsofsparta1', author=User(_api=<tweepy.api.API object at 0x0000022C324EECA0>, _json={'id': 1306787784913350663, 'id_str': '1306787784913350663', 'name': 'The Centrist', 'screen_name': 'Centrists2Cents', 'location': '', 'description': 'Joe Biden is our President! Mission accomplished', 'url': None, 'entities': {'description': {'urls': []}}, 'protected': False, 'followers_count': 51, 'friends_count': 200, 'listed_count': 1, 'created_at': 'Fri Sep 18 02:51:14 +0000 2020', 'favourites_count': 8141, 'utc_offset': None, 'time_zone': None, 'geo_enabled': True, 'verified': False, 'statuses_count': 11365, 'lang': None, 'contributors_enabled': False, 'is_translator': False, 'is_translation_enabled': False, 'profile_background_color': 'F5F8FA', 'profile_background_image_url': None, 'profile_background_image_url_https': None, 'profile_background_tile': False, 'profile_image_url': 'http://pbs.twimg.com/profile_images/1306788195045117952/cek0_tgx_normal.jpg', 'profile_image_url_https': 'https://pbs.twimg.com/profile_images/1306788195045117952/cek0_tgx_normal.jpg', 'profile_link_color': '1DA1F2', 'profile_sidebar_border_color': 'C0DEED', 'profile_sidebar_fill_color': 'DDEEF6', 'profile_text_color': '333333', 'profile_use_background_image': True, 'has_extended_profile': True, 'default_profile': True, 'default_profile_image': False, 'following': False, 'follow_request_sent': False, 'notifications': False, 'translator_type': 'none'}, id=1306787784913350663, id_str='1306787784913350663', name='The Centrist', screen_name='Centrists2Cents', location='', description='Joe Biden is our President! Mission accomplished', url=None, entities={'description': {'urls': []}}, protected=False, followers_count=51, friends_count=200, listed_count=1, created_at=datetime.datetime(2020, 9, 18, 2, 51, 14), favourites_count=8141, utc_offset=None, time_zone=None, geo_enabled=True, verified=False, statuses_count=11365, lang=None, contributors_enabled=False, is_translator=False, is_translation_enabled=False, profile_background_color='F5F8FA', profile_background_image_url=None, profile_background_image_url_https=None, profile_background_tile=False, profile_image_url='http://pbs.twimg.com/profile_images/1306788195045117952/cek0_tgx_normal.jpg', profile_image_url_https='https://pbs.twimg.com/profile_images/1306788195045117952/cek0_tgx_normal.jpg', profile_link_color='1DA1F2', profile_sidebar_border_color='C0DEED', profile_sidebar_fill_color='DDEEF6', profile_text_color='333333', profile_use_background_image=True, has_extended_profile=True, default_profile=True, default_profile_image=False, following=False, follow_request_sent=False, notifications=False, translator_type='none'), user=User(_api=<tweepy.api.API object at 0x0000022C324EECA0>, _json={'id': 1306787784913350663, 'id_str': '1306787784913350663', 'name': 'The Centrist', 'screen_name': 'Centrists2Cents', 'location': '', 'description': 'Joe Biden is our President! Mission accomplished', 'url': None, 'entities': {'description': {'urls': []}}, 'protected': False, 'followers_count': 51, 'friends_count': 200, 'listed_count': 1, 'created_at': 'Fri Sep 18 02:51:14 +0000 2020', 'favourites_count': 8141, 'utc_offset': None, 'time_zone': None, 'geo_enabled': True, 'verified': False, 'statuses_count': 11365, 'lang': None, 'contributors_enabled': False, 'is_translator': False, 'is_translation_enabled': False, 'profile_background_color': 'F5F8FA', 'profile_background_image_url': None, 'profile_background_image_url_https': None, 'profile_background_tile': False, 'profile_image_url': 'http://pbs.twimg.com/profile_images/1306788195045117952/cek0_tgx_normal.jpg', 'profile_image_url_https': 'https://pbs.twimg.com/profile_images/1306788195045117952/cek0_tgx_normal.jpg', 'profile_link_color': '1DA1F2', 'profile_sidebar_border_color': 'C0DEED', 'profile_sidebar_fill_color': 'DDEEF6', 'profile_text_color': '333333', 'profile_use_background_image': True, 'has_extended_profile': True, 'default_profile': True, 'default_profile_image': False, 'following': False, 'follow_request_sent': False, 'notifications': False, 'translator_type': 'none'}, id=1306787784913350663, id_str='1306787784913350663', name='The Centrist', screen_name='Centrists2Cents', location='', description='Joe Biden is our President! Mission accomplished', url=None, entities={'description': {'urls': []}}, protected=False, followers_count=51, friends_count=200, listed_count=1, created_at=datetime.datetime(2020, 9, 18, 2, 51, 14), favourites_count=8141, utc_offset=None, time_zone=None, geo_enabled=True, verified=False, statuses_count=11365, lang=None, contributors_enabled=False, is_translator=False, is_translation_enabled=False, profile_background_color='F5F8FA', profile_background_image_url=None, profile_background_image_url_https=None, profile_background_tile=False, profile_image_url='http://pbs.twimg.com/profile_images/1306788195045117952/cek0_tgx_normal.jpg', profile_image_url_https='https://pbs.twimg.com/profile_images/1306788195045117952/cek0_tgx_normal.jpg', profile_link_color='1DA1F2', profile_sidebar_border_color='C0DEED', profile_sidebar_fill_color='DDEEF6', profile_text_color='333333', profile_use_background_image=True, has_extended_profile=True, default_profile=True, default_profile_image=False, following=False, follow_request_sent=False, notifications=False, translator_type='none'), geo=None, coordinates=None, place=None, contributors=None, is_quote_status=False, retweet_count=0, favorite_count=0, favorited=False, retweeted=False, lang='en')\n",
      "=================================================\n"
     ]
    }
   ],
   "source": [
    "# Lets provide the query which I need to search\n",
    "\n",
    "query = \"US election Joe Biden\"\n",
    "\n",
    "# Fetch tweets\n",
    "\n",
    "Tweets = api.search(query, count=10, lang= 'en', exclude= 'retweets', tweet_mode= 'extended')\n",
    "\n",
    "for tweet in Tweets:\n",
    "    print(tweet)\n",
    "    print(\"=================================================\")"
   ]
  },
  {
   "cell_type": "markdown",
   "metadata": {},
   "source": [
    "# Getting the Tweets and some of its related Attributes"
   ]
  },
  {
   "cell_type": "code",
   "execution_count": 77,
   "metadata": {},
   "outputs": [
    {
     "data": {
      "text/html": [
       "<div>\n",
       "<style scoped>\n",
       "    .dataframe tbody tr th:only-of-type {\n",
       "        vertical-align: middle;\n",
       "    }\n",
       "\n",
       "    .dataframe tbody tr th {\n",
       "        vertical-align: top;\n",
       "    }\n",
       "\n",
       "    .dataframe thead th {\n",
       "        text-align: right;\n",
       "    }\n",
       "</style>\n",
       "<table border=\"1\" class=\"dataframe\">\n",
       "  <thead>\n",
       "    <tr style=\"text-align: right;\">\n",
       "      <th></th>\n",
       "      <th>Tweets</th>\n",
       "      <th>User</th>\n",
       "      <th>User_statuses_count</th>\n",
       "      <th>user_followers</th>\n",
       "      <th>User_location</th>\n",
       "      <th>User_verified</th>\n",
       "      <th>fav_count</th>\n",
       "      <th>rt_count</th>\n",
       "      <th>tweet_date</th>\n",
       "    </tr>\n",
       "  </thead>\n",
       "  <tbody>\n",
       "  </tbody>\n",
       "</table>\n",
       "</div>"
      ],
      "text/plain": [
       "Empty DataFrame\n",
       "Columns: [Tweets, User, User_statuses_count, user_followers, User_location, User_verified, fav_count, rt_count, tweet_date]\n",
       "Index: []"
      ]
     },
     "execution_count": 77,
     "metadata": {},
     "output_type": "execute_result"
    }
   ],
   "source": [
    "df = pd.DataFrame(columns=[\n",
    "    'Tweets', 'User', 'User_statuses_count',\n",
    "    'user_followers', 'User_location', 'User_verified',\n",
    "    'fav_count', 'rt_count', 'tweet_date'\n",
    "])\n",
    "df"
   ]
  },
  {
   "cell_type": "code",
   "execution_count": 78,
   "metadata": {},
   "outputs": [],
   "source": [
    "def stream(data, file_name):\n",
    "    i=0\n",
    "    for tweet in tweepy.Cursor(api.search, q=data, count=100, lang='en').items():\n",
    "        print(i, end='\\r')\n",
    "        df.loc[i, 'Tweets'] = tweet.text\n",
    "        df.loc[i, 'User'] = tweet.user.name\n",
    "        df.loc[i, 'User_statuses_count'] = tweet.user.statuses_count\n",
    "        df.loc[i, 'user_followers'] = tweet.user.followers_count\n",
    "        df.loc[i, 'User_location'] = tweet.user.location\n",
    "        df.loc[i, 'User_verified'] = tweet.user.verified\n",
    "        df.loc[i, 'fav_count'] = tweet.favorite_count\n",
    "        df.loc[i, 'rt_count'] = tweet.retweet_count\n",
    "        df.loc[i, 'tweet_date'] = tweet.created_at\n",
    "        df.to_excel('{}.xlsx'.format(file_name))\n",
    "        i = i+1\n",
    "        if i == 1000:\n",
    "            break\n",
    "        else:\n",
    "            pass"
   ]
  },
  {
   "cell_type": "code",
   "execution_count": 79,
   "metadata": {
    "scrolled": true
   },
   "outputs": [
    {
     "name": "stdout",
     "output_type": "stream",
     "text": [
      "945\r"
     ]
    }
   ],
   "source": [
    "stream(data=[\"Arnab Goswami’s leaked WhatsApp chats\"], file_name='my_tweets')"
   ]
  },
  {
   "cell_type": "code",
   "execution_count": 80,
   "metadata": {},
   "outputs": [
    {
     "data": {
      "text/html": [
       "<div>\n",
       "<style scoped>\n",
       "    .dataframe tbody tr th:only-of-type {\n",
       "        vertical-align: middle;\n",
       "    }\n",
       "\n",
       "    .dataframe tbody tr th {\n",
       "        vertical-align: top;\n",
       "    }\n",
       "\n",
       "    .dataframe thead th {\n",
       "        text-align: right;\n",
       "    }\n",
       "</style>\n",
       "<table border=\"1\" class=\"dataframe\">\n",
       "  <thead>\n",
       "    <tr style=\"text-align: right;\">\n",
       "      <th></th>\n",
       "      <th>Tweets</th>\n",
       "      <th>User</th>\n",
       "      <th>User_statuses_count</th>\n",
       "      <th>user_followers</th>\n",
       "      <th>User_location</th>\n",
       "      <th>User_verified</th>\n",
       "      <th>fav_count</th>\n",
       "      <th>rt_count</th>\n",
       "      <th>tweet_date</th>\n",
       "    </tr>\n",
       "  </thead>\n",
       "  <tbody>\n",
       "    <tr>\n",
       "      <th>0</th>\n",
       "      <td>RT @karanbirtinna: Wow Arnab Goswami's WhatsAp...</td>\n",
       "      <td>Discombobulated.</td>\n",
       "      <td>314381</td>\n",
       "      <td>375</td>\n",
       "      <td>North-Mid Earth</td>\n",
       "      <td>False</td>\n",
       "      <td>0</td>\n",
       "      <td>17</td>\n",
       "      <td>2021-01-24 13:59:12</td>\n",
       "    </tr>\n",
       "    <tr>\n",
       "      <th>1</th>\n",
       "      <td>Many believe that anyone can snoop into one's ...</td>\n",
       "      <td>Praveen Kumar</td>\n",
       "      <td>130</td>\n",
       "      <td>60</td>\n",
       "      <td>🇮🇳</td>\n",
       "      <td>False</td>\n",
       "      <td>1</td>\n",
       "      <td>0</td>\n",
       "      <td>2021-01-24 08:41:39</td>\n",
       "    </tr>\n",
       "    <tr>\n",
       "      <th>2</th>\n",
       "      <td>RT @dhruv_rathee: More than 500 pages of Arnab...</td>\n",
       "      <td>Samir Khan</td>\n",
       "      <td>9735</td>\n",
       "      <td>51</td>\n",
       "      <td>Jamnagar, India</td>\n",
       "      <td>False</td>\n",
       "      <td>0</td>\n",
       "      <td>5461</td>\n",
       "      <td>2021-01-24 05:54:38</td>\n",
       "    </tr>\n",
       "    <tr>\n",
       "      <th>3</th>\n",
       "      <td>RT @AnuragK35539521: Leaked WhatsApp chats bet...</td>\n",
       "      <td>surekha gupta</td>\n",
       "      <td>9681</td>\n",
       "      <td>2371</td>\n",
       "      <td>Ahmadabad City, India</td>\n",
       "      <td>False</td>\n",
       "      <td>0</td>\n",
       "      <td>3</td>\n",
       "      <td>2021-01-24 03:50:36</td>\n",
       "    </tr>\n",
       "    <tr>\n",
       "      <th>4</th>\n",
       "      <td>RT @LogicalIndians: One week has passed since ...</td>\n",
       "      <td>Raj Grewal</td>\n",
       "      <td>5168</td>\n",
       "      <td>186</td>\n",
       "      <td>Germany</td>\n",
       "      <td>False</td>\n",
       "      <td>0</td>\n",
       "      <td>5</td>\n",
       "      <td>2021-01-23 21:08:07</td>\n",
       "    </tr>\n",
       "  </tbody>\n",
       "</table>\n",
       "</div>"
      ],
      "text/plain": [
       "                                              Tweets              User User_statuses_count user_followers          User_location User_verified fav_count rt_count           tweet_date\n",
       "0  RT @karanbirtinna: Wow Arnab Goswami's WhatsAp...  Discombobulated.              314381            375        North-Mid Earth         False         0       17  2021-01-24 13:59:12\n",
       "1  Many believe that anyone can snoop into one's ...     Praveen Kumar                 130             60                     🇮🇳         False         1        0  2021-01-24 08:41:39\n",
       "2  RT @dhruv_rathee: More than 500 pages of Arnab...        Samir Khan                9735             51        Jamnagar, India         False         0     5461  2021-01-24 05:54:38\n",
       "3  RT @AnuragK35539521: Leaked WhatsApp chats bet...     surekha gupta                9681           2371  Ahmadabad City, India         False         0        3  2021-01-24 03:50:36\n",
       "4  RT @LogicalIndians: One week has passed since ...        Raj Grewal                5168            186                Germany         False         0        5  2021-01-23 21:08:07"
      ]
     },
     "execution_count": 80,
     "metadata": {},
     "output_type": "execute_result"
    }
   ],
   "source": [
    "df.head()"
   ]
  },
  {
   "cell_type": "code",
   "execution_count": 81,
   "metadata": {},
   "outputs": [
    {
     "data": {
      "text/plain": [
       "(946, 9)"
      ]
     },
     "execution_count": 81,
     "metadata": {},
     "output_type": "execute_result"
    }
   ],
   "source": [
    "df.shape"
   ]
  },
  {
   "cell_type": "code",
   "execution_count": 82,
   "metadata": {},
   "outputs": [],
   "source": [
    "from textblob import TextBlob"
   ]
  },
  {
   "cell_type": "raw",
   "metadata": {},
   "source": [
    "Textblob has built-in sentiment property\n",
    "\n",
    "Sentiment(polarity, subjectivity)\n",
    "\n",
    "Polarity: It is a float score withan a range [-1, 1]\n",
    "\n",
    "Subjectivity: It is a float value in the range [0,1] where  0 means very Objective and 1 means very Subjective."
   ]
  },
  {
   "cell_type": "code",
   "execution_count": 83,
   "metadata": {},
   "outputs": [],
   "source": [
    "import re\n",
    "def clean_tweet(tweet):\n",
    "    return ' '.join(re.sub('(@[A-Za-z0-9]+)|([^0-9A-Za-z \\t])|(\\w+:\\/\\/\\S+)', ' ', tweet).split())"
   ]
  },
  {
   "cell_type": "code",
   "execution_count": 84,
   "metadata": {},
   "outputs": [],
   "source": [
    "def analyze_sentiment(tweet):\n",
    "    analysis = TextBlob(tweet)\n",
    "    if analysis.sentiment.polarity>0:\n",
    "        return 'Positive'\n",
    "    elif analysis.sentiment.polarity==0:\n",
    "        return 'Neutral'\n",
    "    else:\n",
    "        return 'Negative'"
   ]
  },
  {
   "cell_type": "code",
   "execution_count": 85,
   "metadata": {},
   "outputs": [],
   "source": [
    "df['clean_tweet'] = df['Tweets'].apply(lambda x: clean_tweet(x))"
   ]
  },
  {
   "cell_type": "code",
   "execution_count": 86,
   "metadata": {},
   "outputs": [
    {
     "data": {
      "text/html": [
       "<div>\n",
       "<style scoped>\n",
       "    .dataframe tbody tr th:only-of-type {\n",
       "        vertical-align: middle;\n",
       "    }\n",
       "\n",
       "    .dataframe tbody tr th {\n",
       "        vertical-align: top;\n",
       "    }\n",
       "\n",
       "    .dataframe thead th {\n",
       "        text-align: right;\n",
       "    }\n",
       "</style>\n",
       "<table border=\"1\" class=\"dataframe\">\n",
       "  <thead>\n",
       "    <tr style=\"text-align: right;\">\n",
       "      <th></th>\n",
       "      <th>Tweets</th>\n",
       "      <th>clean_tweet</th>\n",
       "    </tr>\n",
       "  </thead>\n",
       "  <tbody>\n",
       "    <tr>\n",
       "      <th>0</th>\n",
       "      <td>RT @karanbirtinna: Wow Arnab Goswami's WhatsAp...</td>\n",
       "      <td>RT Wow Arnab Goswami s WhatsApp chats leaked a...</td>\n",
       "    </tr>\n",
       "    <tr>\n",
       "      <th>1</th>\n",
       "      <td>Many believe that anyone can snoop into one's ...</td>\n",
       "      <td>Many believe that anyone can snoop into one s ...</td>\n",
       "    </tr>\n",
       "    <tr>\n",
       "      <th>2</th>\n",
       "      <td>RT @dhruv_rathee: More than 500 pages of Arnab...</td>\n",
       "      <td>RT rathee More than 500 pages of Arnab Goswami...</td>\n",
       "    </tr>\n",
       "    <tr>\n",
       "      <th>3</th>\n",
       "      <td>RT @AnuragK35539521: Leaked WhatsApp chats bet...</td>\n",
       "      <td>RT Leaked WhatsApp chats between BARC Ceo amp ...</td>\n",
       "    </tr>\n",
       "    <tr>\n",
       "      <th>4</th>\n",
       "      <td>RT @LogicalIndians: One week has passed since ...</td>\n",
       "      <td>RT One week has passed since Editor in chief A...</td>\n",
       "    </tr>\n",
       "  </tbody>\n",
       "</table>\n",
       "</div>"
      ],
      "text/plain": [
       "                                              Tweets                                        clean_tweet\n",
       "0  RT @karanbirtinna: Wow Arnab Goswami's WhatsAp...  RT Wow Arnab Goswami s WhatsApp chats leaked a...\n",
       "1  Many believe that anyone can snoop into one's ...  Many believe that anyone can snoop into one s ...\n",
       "2  RT @dhruv_rathee: More than 500 pages of Arnab...  RT rathee More than 500 pages of Arnab Goswami...\n",
       "3  RT @AnuragK35539521: Leaked WhatsApp chats bet...  RT Leaked WhatsApp chats between BARC Ceo amp ...\n",
       "4  RT @LogicalIndians: One week has passed since ...  RT One week has passed since Editor in chief A..."
      ]
     },
     "execution_count": 86,
     "metadata": {},
     "output_type": "execute_result"
    }
   ],
   "source": [
    "df[['Tweets','clean_tweet']].head()"
   ]
  },
  {
   "cell_type": "code",
   "execution_count": 87,
   "metadata": {},
   "outputs": [],
   "source": [
    "df['Sentiment'] = df['clean_tweet'].apply(lambda x: analyze_sentiment(x))"
   ]
  },
  {
   "cell_type": "code",
   "execution_count": 88,
   "metadata": {},
   "outputs": [
    {
     "data": {
      "text/html": [
       "<div>\n",
       "<style scoped>\n",
       "    .dataframe tbody tr th:only-of-type {\n",
       "        vertical-align: middle;\n",
       "    }\n",
       "\n",
       "    .dataframe tbody tr th {\n",
       "        vertical-align: top;\n",
       "    }\n",
       "\n",
       "    .dataframe thead th {\n",
       "        text-align: right;\n",
       "    }\n",
       "</style>\n",
       "<table border=\"1\" class=\"dataframe\">\n",
       "  <thead>\n",
       "    <tr style=\"text-align: right;\">\n",
       "      <th></th>\n",
       "      <th>clean_tweet</th>\n",
       "      <th>Sentiment</th>\n",
       "    </tr>\n",
       "  </thead>\n",
       "  <tbody>\n",
       "    <tr>\n",
       "      <th>0</th>\n",
       "      <td>RT Wow Arnab Goswami s WhatsApp chats leaked a...</td>\n",
       "      <td>Positive</td>\n",
       "    </tr>\n",
       "    <tr>\n",
       "      <th>1</th>\n",
       "      <td>Many believe that anyone can snoop into one s ...</td>\n",
       "      <td>Positive</td>\n",
       "    </tr>\n",
       "    <tr>\n",
       "      <th>2</th>\n",
       "      <td>RT rathee More than 500 pages of Arnab Goswami...</td>\n",
       "      <td>Positive</td>\n",
       "    </tr>\n",
       "    <tr>\n",
       "      <th>3</th>\n",
       "      <td>RT Leaked WhatsApp chats between BARC Ceo amp ...</td>\n",
       "      <td>Neutral</td>\n",
       "    </tr>\n",
       "    <tr>\n",
       "      <th>4</th>\n",
       "      <td>RT One week has passed since Editor in chief A...</td>\n",
       "      <td>Negative</td>\n",
       "    </tr>\n",
       "  </tbody>\n",
       "</table>\n",
       "</div>"
      ],
      "text/plain": [
       "                                         clean_tweet Sentiment\n",
       "0  RT Wow Arnab Goswami s WhatsApp chats leaked a...  Positive\n",
       "1  Many believe that anyone can snoop into one s ...  Positive\n",
       "2  RT rathee More than 500 pages of Arnab Goswami...  Positive\n",
       "3  RT Leaked WhatsApp chats between BARC Ceo amp ...   Neutral\n",
       "4  RT One week has passed since Editor in chief A...  Negative"
      ]
     },
     "execution_count": 88,
     "metadata": {},
     "output_type": "execute_result"
    }
   ],
   "source": [
    "df[['clean_tweet','Sentiment']].head()"
   ]
  },
  {
   "cell_type": "code",
   "execution_count": 89,
   "metadata": {},
   "outputs": [],
   "source": [
    "pd.set_option('display.max_rows', 500)\n",
    "pd.set_option('display.max_columns', 500)\n",
    "pd.set_option('display.width', 1000)"
   ]
  },
  {
   "cell_type": "code",
   "execution_count": 90,
   "metadata": {},
   "outputs": [
    {
     "data": {
      "text/html": [
       "<div>\n",
       "<style scoped>\n",
       "    .dataframe tbody tr th:only-of-type {\n",
       "        vertical-align: middle;\n",
       "    }\n",
       "\n",
       "    .dataframe tbody tr th {\n",
       "        vertical-align: top;\n",
       "    }\n",
       "\n",
       "    .dataframe thead th {\n",
       "        text-align: right;\n",
       "    }\n",
       "</style>\n",
       "<table border=\"1\" class=\"dataframe\">\n",
       "  <thead>\n",
       "    <tr style=\"text-align: right;\">\n",
       "      <th></th>\n",
       "      <th>clean_tweet</th>\n",
       "      <th>Sentiment</th>\n",
       "    </tr>\n",
       "  </thead>\n",
       "  <tbody>\n",
       "    <tr>\n",
       "      <th>0</th>\n",
       "      <td>RT Wow Arnab Goswami s WhatsApp chats leaked a...</td>\n",
       "      <td>Positive</td>\n",
       "    </tr>\n",
       "    <tr>\n",
       "      <th>1</th>\n",
       "      <td>Many believe that anyone can snoop into one s ...</td>\n",
       "      <td>Positive</td>\n",
       "    </tr>\n",
       "    <tr>\n",
       "      <th>2</th>\n",
       "      <td>RT rathee More than 500 pages of Arnab Goswami...</td>\n",
       "      <td>Positive</td>\n",
       "    </tr>\n",
       "    <tr>\n",
       "      <th>3</th>\n",
       "      <td>RT Leaked WhatsApp chats between BARC Ceo amp ...</td>\n",
       "      <td>Neutral</td>\n",
       "    </tr>\n",
       "    <tr>\n",
       "      <th>4</th>\n",
       "      <td>RT One week has passed since Editor in chief A...</td>\n",
       "      <td>Negative</td>\n",
       "    </tr>\n",
       "  </tbody>\n",
       "</table>\n",
       "</div>"
      ],
      "text/plain": [
       "                                         clean_tweet Sentiment\n",
       "0  RT Wow Arnab Goswami s WhatsApp chats leaked a...  Positive\n",
       "1  Many believe that anyone can snoop into one s ...  Positive\n",
       "2  RT rathee More than 500 pages of Arnab Goswami...  Positive\n",
       "3  RT Leaked WhatsApp chats between BARC Ceo amp ...   Neutral\n",
       "4  RT One week has passed since Editor in chief A...  Negative"
      ]
     },
     "execution_count": 90,
     "metadata": {},
     "output_type": "execute_result"
    }
   ],
   "source": [
    "df[['clean_tweet','Sentiment']].head()"
   ]
  },
  {
   "cell_type": "code",
   "execution_count": 91,
   "metadata": {},
   "outputs": [
    {
     "data": {
      "text/html": [
       "<div>\n",
       "<style scoped>\n",
       "    .dataframe tbody tr th:only-of-type {\n",
       "        vertical-align: middle;\n",
       "    }\n",
       "\n",
       "    .dataframe tbody tr th {\n",
       "        vertical-align: top;\n",
       "    }\n",
       "\n",
       "    .dataframe thead th {\n",
       "        text-align: right;\n",
       "    }\n",
       "</style>\n",
       "<table border=\"1\" class=\"dataframe\">\n",
       "  <thead>\n",
       "    <tr style=\"text-align: right;\">\n",
       "      <th></th>\n",
       "      <th>Tweets</th>\n",
       "      <th>User</th>\n",
       "      <th>User_statuses_count</th>\n",
       "      <th>user_followers</th>\n",
       "      <th>User_location</th>\n",
       "      <th>User_verified</th>\n",
       "      <th>fav_count</th>\n",
       "      <th>rt_count</th>\n",
       "      <th>tweet_date</th>\n",
       "      <th>clean_tweet</th>\n",
       "      <th>Sentiment</th>\n",
       "    </tr>\n",
       "  </thead>\n",
       "  <tbody>\n",
       "    <tr>\n",
       "      <th>0</th>\n",
       "      <td>RT @karanbirtinna: Wow Arnab Goswami's WhatsAp...</td>\n",
       "      <td>Discombobulated.</td>\n",
       "      <td>314381</td>\n",
       "      <td>375</td>\n",
       "      <td>North-Mid Earth</td>\n",
       "      <td>False</td>\n",
       "      <td>0</td>\n",
       "      <td>17</td>\n",
       "      <td>2021-01-24 13:59:12</td>\n",
       "      <td>RT Wow Arnab Goswami s WhatsApp chats leaked a...</td>\n",
       "      <td>Positive</td>\n",
       "    </tr>\n",
       "    <tr>\n",
       "      <th>1</th>\n",
       "      <td>Many believe that anyone can snoop into one's ...</td>\n",
       "      <td>Praveen Kumar</td>\n",
       "      <td>130</td>\n",
       "      <td>60</td>\n",
       "      <td>🇮🇳</td>\n",
       "      <td>False</td>\n",
       "      <td>1</td>\n",
       "      <td>0</td>\n",
       "      <td>2021-01-24 08:41:39</td>\n",
       "      <td>Many believe that anyone can snoop into one s ...</td>\n",
       "      <td>Positive</td>\n",
       "    </tr>\n",
       "    <tr>\n",
       "      <th>2</th>\n",
       "      <td>RT @dhruv_rathee: More than 500 pages of Arnab...</td>\n",
       "      <td>Samir Khan</td>\n",
       "      <td>9735</td>\n",
       "      <td>51</td>\n",
       "      <td>Jamnagar, India</td>\n",
       "      <td>False</td>\n",
       "      <td>0</td>\n",
       "      <td>5461</td>\n",
       "      <td>2021-01-24 05:54:38</td>\n",
       "      <td>RT rathee More than 500 pages of Arnab Goswami...</td>\n",
       "      <td>Positive</td>\n",
       "    </tr>\n",
       "    <tr>\n",
       "      <th>3</th>\n",
       "      <td>RT @AnuragK35539521: Leaked WhatsApp chats bet...</td>\n",
       "      <td>surekha gupta</td>\n",
       "      <td>9681</td>\n",
       "      <td>2371</td>\n",
       "      <td>Ahmadabad City, India</td>\n",
       "      <td>False</td>\n",
       "      <td>0</td>\n",
       "      <td>3</td>\n",
       "      <td>2021-01-24 03:50:36</td>\n",
       "      <td>RT Leaked WhatsApp chats between BARC Ceo amp ...</td>\n",
       "      <td>Neutral</td>\n",
       "    </tr>\n",
       "    <tr>\n",
       "      <th>4</th>\n",
       "      <td>RT @LogicalIndians: One week has passed since ...</td>\n",
       "      <td>Raj Grewal</td>\n",
       "      <td>5168</td>\n",
       "      <td>186</td>\n",
       "      <td>Germany</td>\n",
       "      <td>False</td>\n",
       "      <td>0</td>\n",
       "      <td>5</td>\n",
       "      <td>2021-01-23 21:08:07</td>\n",
       "      <td>RT One week has passed since Editor in chief A...</td>\n",
       "      <td>Negative</td>\n",
       "    </tr>\n",
       "  </tbody>\n",
       "</table>\n",
       "</div>"
      ],
      "text/plain": [
       "                                              Tweets              User User_statuses_count user_followers          User_location User_verified fav_count rt_count           tweet_date                                        clean_tweet Sentiment\n",
       "0  RT @karanbirtinna: Wow Arnab Goswami's WhatsAp...  Discombobulated.              314381            375        North-Mid Earth         False         0       17  2021-01-24 13:59:12  RT Wow Arnab Goswami s WhatsApp chats leaked a...  Positive\n",
       "1  Many believe that anyone can snoop into one's ...     Praveen Kumar                 130             60                     🇮🇳         False         1        0  2021-01-24 08:41:39  Many believe that anyone can snoop into one s ...  Positive\n",
       "2  RT @dhruv_rathee: More than 500 pages of Arnab...        Samir Khan                9735             51        Jamnagar, India         False         0     5461  2021-01-24 05:54:38  RT rathee More than 500 pages of Arnab Goswami...  Positive\n",
       "3  RT @AnuragK35539521: Leaked WhatsApp chats bet...     surekha gupta                9681           2371  Ahmadabad City, India         False         0        3  2021-01-24 03:50:36  RT Leaked WhatsApp chats between BARC Ceo amp ...   Neutral\n",
       "4  RT @LogicalIndians: One week has passed since ...        Raj Grewal                5168            186                Germany         False         0        5  2021-01-23 21:08:07  RT One week has passed since Editor in chief A...  Negative"
      ]
     },
     "execution_count": 91,
     "metadata": {},
     "output_type": "execute_result"
    }
   ],
   "source": [
    "df.head()"
   ]
  },
  {
   "cell_type": "code",
   "execution_count": 92,
   "metadata": {},
   "outputs": [
    {
     "name": "stdout",
     "output_type": "stream",
     "text": [
      "Original Tweet:\n",
      "RT @dhruv_rathee: More than 500 pages of Arnab Goswami's WhatsApp chat has been leaked! \n",
      "\n",
      "Not only is there clear cut evidence of abuse of…\n",
      "\n",
      "Clean Tweet:\n",
      "RT rathee More than 500 pages of Arnab Goswami s WhatsApp chat has been leaked Not only is there clear cut evidence of abuse of\n",
      "\n",
      "Sentiment:\n",
      "Positive\n"
     ]
    }
   ],
   "source": [
    "n = 20\n",
    "print('Original Tweet:\\n'+df['Tweets'][n])\n",
    "print()\n",
    "print('Clean Tweet:\\n'+df['clean_tweet'][n])\n",
    "print()\n",
    "print(\"Sentiment:\\n\"+df['Sentiment'][n])"
   ]
  },
  {
   "cell_type": "code",
   "execution_count": 93,
   "metadata": {},
   "outputs": [
    {
     "name": "stdout",
     "output_type": "stream",
     "text": [
      "Original Tweet:\n",
      "The leaked WhatsApp chats of Arnab Goswami, an anchorperson of Indian Republic TV, exposed the sinister designs hat… https://t.co/F3vXQYmA6o\n",
      "\n",
      "Clean Tweet:\n",
      "The leaked WhatsApp chats of Arnab Goswami an anchorperson of Indian Republic TV exposed the sinister designs hat\n",
      "\n",
      "Sentiment:\n",
      "Negative\n"
     ]
    }
   ],
   "source": [
    "n = 202\n",
    "print('Original Tweet:\\n'+df['Tweets'][n])\n",
    "print()\n",
    "print('Clean Tweet:\\n'+df['clean_tweet'][n])\n",
    "print()\n",
    "print(\"Sentiment:\\n\"+df['Sentiment'][n])"
   ]
  },
  {
   "cell_type": "code",
   "execution_count": 94,
   "metadata": {},
   "outputs": [
    {
     "name": "stdout",
     "output_type": "stream",
     "text": [
      "Original Tweet:\n",
      "RT @RiaRevealed: Republic TV's Arnab Goswami has been slammed by the grieving kin of Pulwama attack martyrs. They demanded strict action ag…\n",
      "\n",
      "Clean Tweet:\n",
      "RT Republic TV s Arnab Goswami has been slammed by the grieving kin of Pulwama attack martyrs They demanded strict action ag\n",
      "\n",
      "Sentiment:\n",
      "Positive\n"
     ]
    }
   ],
   "source": [
    "n = 50\n",
    "print('Original Tweet:\\n'+df['Tweets'][n])\n",
    "print()\n",
    "print('Clean Tweet:\\n'+df['clean_tweet'][n])\n",
    "print()\n",
    "print(\"Sentiment:\\n\"+df['Sentiment'][n])"
   ]
  },
  {
   "cell_type": "code",
   "execution_count": 95,
   "metadata": {},
   "outputs": [
    {
     "data": {
      "text/plain": [
       "246"
      ]
     },
     "execution_count": 95,
     "metadata": {},
     "output_type": "execute_result"
    }
   ],
   "source": [
    "df[df.Sentiment=='Positive'].shape[0]"
   ]
  },
  {
   "cell_type": "code",
   "execution_count": 96,
   "metadata": {},
   "outputs": [
    {
     "data": {
      "text/plain": [
       "346"
      ]
     },
     "execution_count": 96,
     "metadata": {},
     "output_type": "execute_result"
    }
   ],
   "source": [
    "df[df.Sentiment=='Neutral'].shape[0]"
   ]
  },
  {
   "cell_type": "code",
   "execution_count": 97,
   "metadata": {},
   "outputs": [
    {
     "data": {
      "text/plain": [
       "354"
      ]
     },
     "execution_count": 97,
     "metadata": {},
     "output_type": "execute_result"
    }
   ],
   "source": [
    "df[df.Sentiment=='Negative'].shape[0]"
   ]
  },
  {
   "cell_type": "raw",
   "metadata": {},
   "source": [
    "data= \"US election Joe Biden\"\n",
    "Positive = 476\n",
    "Neutral = 400\n",
    "Negative = 124\n",
    "\n",
    "data= \"covid vaccine india\"\n",
    "Positive = 468\n",
    "Neutral = 460\n",
    "Negative = 72\n",
    "\n",
    "data= \"Chelsea sack Frank Lampard\"\n",
    "Positive = 366\n",
    "Neutral = 572\n",
    "Negative = 62\n",
    "\n",
    "data= \"Arnab Goswami’s leaked WhatsApp chats\"\n",
    "Positive = 246\n",
    "Neutral = 346\n",
    "Negative = 354"
   ]
  }
 ],
 "metadata": {
  "kernelspec": {
   "display_name": "Python 3",
   "language": "python",
   "name": "python3"
  },
  "language_info": {
   "codemirror_mode": {
    "name": "ipython",
    "version": 3
   },
   "file_extension": ".py",
   "mimetype": "text/x-python",
   "name": "python",
   "nbconvert_exporter": "python",
   "pygments_lexer": "ipython3",
   "version": "3.8.5"
  }
 },
 "nbformat": 4,
 "nbformat_minor": 4
}
